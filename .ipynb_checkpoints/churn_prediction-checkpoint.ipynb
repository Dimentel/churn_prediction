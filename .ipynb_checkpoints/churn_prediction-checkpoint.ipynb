{
 "cells": [
  {
   "cell_type": "markdown",
   "metadata": {
    "toc": true
   },
   "source": [
    "<h1>Содержание<span class=\"tocSkip\"></span></h1>\n",
    "<div class=\"toc\"><ul class=\"toc-item\"><li><span><a href=\"#Подготовка-данных\" data-toc-modified-id=\"Подготовка-данных-1\"><span class=\"toc-item-num\">1&nbsp;&nbsp;</span>Подготовка данных</a></span></li><li><span><a href=\"#Исследование-задачи\" data-toc-modified-id=\"Исследование-задачи-2\"><span class=\"toc-item-num\">2&nbsp;&nbsp;</span>Исследование задачи</a></span><ul class=\"toc-item\"><li><span><a href=\"#Баланс-классов\" data-toc-modified-id=\"Баланс-классов-2.1\"><span class=\"toc-item-num\">2.1&nbsp;&nbsp;</span>Баланс классов</a></span></li><li><span><a href=\"#Модель-логистической-регрессии\" data-toc-modified-id=\"Модель-логистической-регрессии-2.2\"><span class=\"toc-item-num\">2.2&nbsp;&nbsp;</span>Модель логистической регрессии</a></span></li><li><span><a href=\"#Модель-на-основе-решающего-дерева\" data-toc-modified-id=\"Модель-на-основе-решающего-дерева-2.3\"><span class=\"toc-item-num\">2.3&nbsp;&nbsp;</span>Модель на основе решающего дерева</a></span></li><li><span><a href=\"#Модель-на-основе-случайного-леса\" data-toc-modified-id=\"Модель-на-основе-случайного-леса-2.4\"><span class=\"toc-item-num\">2.4&nbsp;&nbsp;</span>Модель на основе случайного леса</a></span></li></ul></li><li><span><a href=\"#Борьба-с-дисбалансом\" data-toc-modified-id=\"Борьба-с-дисбалансом-3\"><span class=\"toc-item-num\">3&nbsp;&nbsp;</span>Борьба с дисбалансом</a></span><ul class=\"toc-item\"><li><span><a href=\"#Взвешивание-классов\" data-toc-modified-id=\"Взвешивание-классов-3.1\"><span class=\"toc-item-num\">3.1&nbsp;&nbsp;</span>Взвешивание классов</a></span></li><li><span><a href=\"#Увеличение-выборки\" data-toc-modified-id=\"Увеличение-выборки-3.2\"><span class=\"toc-item-num\">3.2&nbsp;&nbsp;</span>Увеличение выборки</a></span></li><li><span><a href=\"#Уменьшение-выборки\" data-toc-modified-id=\"Уменьшение-выборки-3.3\"><span class=\"toc-item-num\">3.3&nbsp;&nbsp;</span>Уменьшение выборки</a></span></li></ul></li><li><span><a href=\"#Тестирование-модели\" data-toc-modified-id=\"Тестирование-модели-4\"><span class=\"toc-item-num\">4&nbsp;&nbsp;</span>Тестирование модели</a></span></li></ul></div>"
   ]
  },
  {
   "cell_type": "markdown",
   "metadata": {},
   "source": [
    "# Отток клиентов"
   ]
  },
  {
   "cell_type": "markdown",
   "metadata": {},
   "source": [
    "Из «Бета-Банка» стали уходить клиенты. Каждый месяц. Немного, но заметно. Банковские маркетологи посчитали: сохранять текущих клиентов дешевле, чем привлекать новых.\n",
    "\n",
    "Нужно спрогнозировать, уйдёт клиент из банка в ближайшее время или нет. Вам предоставлены исторические данные о поведении клиентов и расторжении договоров с банком. \n",
    "\n",
    "Постройте модель с предельно большим значением *F1*-меры. Чтобы сдать проект успешно, нужно довести метрику до 0.59. Проверьте *F1*-меру на тестовой выборке самостоятельно.\n",
    "\n",
    "Дополнительно измеряйте *AUC-ROC*, сравнивайте её значение с *F1*-мерой.\n",
    "\n",
    "Источник данных: [https://www.kaggle.com/barelydedicated/bank-customer-churn-modeling](https://www.kaggle.com/barelydedicated/bank-customer-churn-modeling)"
   ]
  },
  {
   "cell_type": "markdown",
   "metadata": {},
   "source": [
    "## Подготовка данных"
   ]
  },
  {
   "cell_type": "code",
   "execution_count": 1,
   "metadata": {
    "ExecuteTime": {
     "end_time": "2023-05-11T16:11:04.502528Z",
     "start_time": "2023-05-11T16:11:00.565058Z"
    }
   },
   "outputs": [],
   "source": [
    "# В проекте будем решать задачу классификации. Загрузим библиотеки, которые будут использоваться\n",
    "import pandas as pd\n",
    "import numpy as np # Для создания нецелочисленных последовательностей\n",
    "import matplotlib.pyplot as plt\n",
    "from sklearn.model_selection import train_test_split # Для разбиения данных на выборки\n",
    "from sklearn.preprocessing import StandardScaler, OneHotEncoder # Для масштабирования и прямого кодирования признаков\n",
    "from sklearn.linear_model import LogisticRegression\n",
    "from sklearn.tree import DecisionTreeClassifier\n",
    "from sklearn.ensemble import RandomForestClassifier\n",
    "from sklearn.dummy import DummyClassifier\n",
    "from sklearn.utils import shuffle # Для перемешивания данных при расширении набора данных\n",
    "from sklearn.metrics import (\n",
    "    recall_score, \n",
    "    f1_score,            # Расчёт F1-меры\n",
    "    roc_auc_score,        # Расчёт AUC ROC\n",
    "    roc_curve            # Построение ROC-кривой\n",
    ")\n",
    "\n",
    "# Константа для random_state\n",
    "RANDOM_STATE = 12345"
   ]
  },
  {
   "cell_type": "code",
   "execution_count": 2,
   "metadata": {
    "ExecuteTime": {
     "end_time": "2023-05-11T16:11:05.805072Z",
     "start_time": "2023-05-11T16:11:04.510506Z"
    }
   },
   "outputs": [],
   "source": [
    "try:\n",
    "    df = pd.read_csv('Churn.csv')\n",
    "except:\n",
    "    df = pd.read_csv('/datasets/Churn.csv')"
   ]
  },
  {
   "cell_type": "code",
   "execution_count": 3,
   "metadata": {
    "ExecuteTime": {
     "end_time": "2023-05-11T16:11:05.882864Z",
     "start_time": "2023-05-11T16:11:05.812054Z"
    }
   },
   "outputs": [
    {
     "data": {
      "text/html": [
       "<div>\n",
       "<style scoped>\n",
       "    .dataframe tbody tr th:only-of-type {\n",
       "        vertical-align: middle;\n",
       "    }\n",
       "\n",
       "    .dataframe tbody tr th {\n",
       "        vertical-align: top;\n",
       "    }\n",
       "\n",
       "    .dataframe thead th {\n",
       "        text-align: right;\n",
       "    }\n",
       "</style>\n",
       "<table border=\"1\" class=\"dataframe\">\n",
       "  <thead>\n",
       "    <tr style=\"text-align: right;\">\n",
       "      <th></th>\n",
       "      <th>RowNumber</th>\n",
       "      <th>CustomerId</th>\n",
       "      <th>Surname</th>\n",
       "      <th>CreditScore</th>\n",
       "      <th>Geography</th>\n",
       "      <th>Gender</th>\n",
       "      <th>Age</th>\n",
       "      <th>Tenure</th>\n",
       "      <th>Balance</th>\n",
       "      <th>NumOfProducts</th>\n",
       "      <th>HasCrCard</th>\n",
       "      <th>IsActiveMember</th>\n",
       "      <th>EstimatedSalary</th>\n",
       "      <th>Exited</th>\n",
       "    </tr>\n",
       "  </thead>\n",
       "  <tbody>\n",
       "    <tr>\n",
       "      <th>0</th>\n",
       "      <td>1</td>\n",
       "      <td>15634602</td>\n",
       "      <td>Hargrave</td>\n",
       "      <td>619</td>\n",
       "      <td>France</td>\n",
       "      <td>Female</td>\n",
       "      <td>42</td>\n",
       "      <td>2.0</td>\n",
       "      <td>0.00</td>\n",
       "      <td>1</td>\n",
       "      <td>1</td>\n",
       "      <td>1</td>\n",
       "      <td>101348.88</td>\n",
       "      <td>1</td>\n",
       "    </tr>\n",
       "    <tr>\n",
       "      <th>1</th>\n",
       "      <td>2</td>\n",
       "      <td>15647311</td>\n",
       "      <td>Hill</td>\n",
       "      <td>608</td>\n",
       "      <td>Spain</td>\n",
       "      <td>Female</td>\n",
       "      <td>41</td>\n",
       "      <td>1.0</td>\n",
       "      <td>83807.86</td>\n",
       "      <td>1</td>\n",
       "      <td>0</td>\n",
       "      <td>1</td>\n",
       "      <td>112542.58</td>\n",
       "      <td>0</td>\n",
       "    </tr>\n",
       "    <tr>\n",
       "      <th>2</th>\n",
       "      <td>3</td>\n",
       "      <td>15619304</td>\n",
       "      <td>Onio</td>\n",
       "      <td>502</td>\n",
       "      <td>France</td>\n",
       "      <td>Female</td>\n",
       "      <td>42</td>\n",
       "      <td>8.0</td>\n",
       "      <td>159660.80</td>\n",
       "      <td>3</td>\n",
       "      <td>1</td>\n",
       "      <td>0</td>\n",
       "      <td>113931.57</td>\n",
       "      <td>1</td>\n",
       "    </tr>\n",
       "    <tr>\n",
       "      <th>3</th>\n",
       "      <td>4</td>\n",
       "      <td>15701354</td>\n",
       "      <td>Boni</td>\n",
       "      <td>699</td>\n",
       "      <td>France</td>\n",
       "      <td>Female</td>\n",
       "      <td>39</td>\n",
       "      <td>1.0</td>\n",
       "      <td>0.00</td>\n",
       "      <td>2</td>\n",
       "      <td>0</td>\n",
       "      <td>0</td>\n",
       "      <td>93826.63</td>\n",
       "      <td>0</td>\n",
       "    </tr>\n",
       "    <tr>\n",
       "      <th>4</th>\n",
       "      <td>5</td>\n",
       "      <td>15737888</td>\n",
       "      <td>Mitchell</td>\n",
       "      <td>850</td>\n",
       "      <td>Spain</td>\n",
       "      <td>Female</td>\n",
       "      <td>43</td>\n",
       "      <td>2.0</td>\n",
       "      <td>125510.82</td>\n",
       "      <td>1</td>\n",
       "      <td>1</td>\n",
       "      <td>1</td>\n",
       "      <td>79084.10</td>\n",
       "      <td>0</td>\n",
       "    </tr>\n",
       "  </tbody>\n",
       "</table>\n",
       "</div>"
      ],
      "text/plain": [
       "   RowNumber  CustomerId   Surname  CreditScore Geography  Gender  Age  \\\n",
       "0          1    15634602  Hargrave          619    France  Female   42   \n",
       "1          2    15647311      Hill          608     Spain  Female   41   \n",
       "2          3    15619304      Onio          502    France  Female   42   \n",
       "3          4    15701354      Boni          699    France  Female   39   \n",
       "4          5    15737888  Mitchell          850     Spain  Female   43   \n",
       "\n",
       "   Tenure    Balance  NumOfProducts  HasCrCard  IsActiveMember  \\\n",
       "0     2.0       0.00              1          1               1   \n",
       "1     1.0   83807.86              1          0               1   \n",
       "2     8.0  159660.80              3          1               0   \n",
       "3     1.0       0.00              2          0               0   \n",
       "4     2.0  125510.82              1          1               1   \n",
       "\n",
       "   EstimatedSalary  Exited  \n",
       "0        101348.88       1  \n",
       "1        112542.58       0  \n",
       "2        113931.57       1  \n",
       "3         93826.63       0  \n",
       "4         79084.10       0  "
      ]
     },
     "execution_count": 3,
     "metadata": {},
     "output_type": "execute_result"
    }
   ],
   "source": [
    "# Рассмотрим первые строки\n",
    "df.head()"
   ]
  },
  {
   "cell_type": "markdown",
   "metadata": {},
   "source": [
    "Каждый объект в наборе данных — это информация о клиенте банка.\n",
    "Столбцы содержат следующую информацию (признаки):    \n",
    "- `RowNumber` — индекс строки в данных,\n",
    "- `CustomerId` — уникальный идентификатор клиента,\n",
    "- `Surname` — фамилия,\n",
    "- `CreditScore` — кредитный рейтинг,\n",
    "- `Geography` — страна проживания,\n",
    "- `Gender` — пол,\n",
    "- `Age` — возраст,\n",
    "- `Tenure` — сколько лет человек является клиентом банка,\n",
    "- `Balance` — баланс на счёте,\n",
    "- `NumOfProducts` — количество продуктов банка, используемых клиентом,\n",
    "- `HasCrCard` — наличие кредитной карты,\n",
    "- `IsActiveMember` — активность клиента,\n",
    "- `EstimatedSalary` — предполагаемая зарплата,\n",
    "- `Exited` — факт ухода клиента.\n",
    "\n",
    "Целевой признак - `Exited`."
   ]
  },
  {
   "cell_type": "code",
   "execution_count": 4,
   "metadata": {
    "ExecuteTime": {
     "end_time": "2023-05-11T16:11:05.946692Z",
     "start_time": "2023-05-11T16:11:05.891839Z"
    }
   },
   "outputs": [
    {
     "name": "stdout",
     "output_type": "stream",
     "text": [
      "<class 'pandas.core.frame.DataFrame'>\n",
      "RangeIndex: 10000 entries, 0 to 9999\n",
      "Data columns (total 14 columns):\n",
      " #   Column           Non-Null Count  Dtype  \n",
      "---  ------           --------------  -----  \n",
      " 0   RowNumber        10000 non-null  int64  \n",
      " 1   CustomerId       10000 non-null  int64  \n",
      " 2   Surname          10000 non-null  object \n",
      " 3   CreditScore      10000 non-null  int64  \n",
      " 4   Geography        10000 non-null  object \n",
      " 5   Gender           10000 non-null  object \n",
      " 6   Age              10000 non-null  int64  \n",
      " 7   Tenure           9091 non-null   float64\n",
      " 8   Balance          10000 non-null  float64\n",
      " 9   NumOfProducts    10000 non-null  int64  \n",
      " 10  HasCrCard        10000 non-null  int64  \n",
      " 11  IsActiveMember   10000 non-null  int64  \n",
      " 12  EstimatedSalary  10000 non-null  float64\n",
      " 13  Exited           10000 non-null  int64  \n",
      "dtypes: float64(3), int64(8), object(3)\n",
      "memory usage: 1.1+ MB\n"
     ]
    }
   ],
   "source": [
    "# Изучим информацию о данных\n",
    "df.info()"
   ]
  },
  {
   "cell_type": "code",
   "execution_count": 5,
   "metadata": {
    "ExecuteTime": {
     "end_time": "2023-05-11T16:11:06.010522Z",
     "start_time": "2023-05-11T16:11:05.951680Z"
    }
   },
   "outputs": [
    {
     "data": {
      "text/plain": [
       "RowNumber          0.0000\n",
       "CustomerId         0.0000\n",
       "Surname            0.0000\n",
       "CreditScore        0.0000\n",
       "Geography          0.0000\n",
       "Gender             0.0000\n",
       "Age                0.0000\n",
       "Tenure             0.0909\n",
       "Balance            0.0000\n",
       "NumOfProducts      0.0000\n",
       "HasCrCard          0.0000\n",
       "IsActiveMember     0.0000\n",
       "EstimatedSalary    0.0000\n",
       "Exited             0.0000\n",
       "dtype: float64"
      ]
     },
     "execution_count": 5,
     "metadata": {},
     "output_type": "execute_result"
    }
   ],
   "source": [
    "# Посчитаем пропуски\n",
    "df.isna().sum()/df.shape[0]"
   ]
  },
  {
   "cell_type": "markdown",
   "metadata": {},
   "source": [
    "Как видим, в дата сете в столбце `Tenure` имеются пропуски в объёме 9,09%."
   ]
  },
  {
   "cell_type": "code",
   "execution_count": 6,
   "metadata": {
    "ExecuteTime": {
     "end_time": "2023-05-11T16:11:06.055401Z",
     "start_time": "2023-05-11T16:11:06.017503Z"
    }
   },
   "outputs": [
    {
     "data": {
      "text/plain": [
       "1.0     952\n",
       "2.0     950\n",
       "8.0     933\n",
       "3.0     928\n",
       "5.0     927\n",
       "7.0     925\n",
       "NaN     909\n",
       "4.0     885\n",
       "9.0     882\n",
       "6.0     881\n",
       "10.0    446\n",
       "0.0     382\n",
       "Name: Tenure, dtype: int64"
      ]
     },
     "execution_count": 6,
     "metadata": {},
     "output_type": "execute_result"
    }
   ],
   "source": [
    "# Рассмотрим уникальные значения в столбце\n",
    "df['Tenure'].value_counts(dropna=False)"
   ]
  },
  {
   "cell_type": "markdown",
   "metadata": {},
   "source": [
    "Как видим, в столбце представлен диапазон от 0 до 10 лет, т.е. клиенты банка сотрудничают с ним либо меньше года, либо более длительный срок, но не более 10 лет. Полученная информация не даёт оснований для заполнения пропусков какими-либо данными."
   ]
  },
  {
   "cell_type": "code",
   "execution_count": 7,
   "metadata": {
    "ExecuteTime": {
     "end_time": "2023-05-11T16:11:06.134191Z",
     "start_time": "2023-05-11T16:11:06.061387Z"
    },
    "scrolled": true
   },
   "outputs": [
    {
     "data": {
      "text/html": [
       "<div>\n",
       "<style scoped>\n",
       "    .dataframe tbody tr th:only-of-type {\n",
       "        vertical-align: middle;\n",
       "    }\n",
       "\n",
       "    .dataframe tbody tr th {\n",
       "        vertical-align: top;\n",
       "    }\n",
       "\n",
       "    .dataframe thead th {\n",
       "        text-align: right;\n",
       "    }\n",
       "</style>\n",
       "<table border=\"1\" class=\"dataframe\">\n",
       "  <thead>\n",
       "    <tr style=\"text-align: right;\">\n",
       "      <th></th>\n",
       "      <th>RowNumber</th>\n",
       "      <th>CustomerId</th>\n",
       "      <th>Surname</th>\n",
       "      <th>CreditScore</th>\n",
       "      <th>Geography</th>\n",
       "      <th>Gender</th>\n",
       "      <th>Age</th>\n",
       "      <th>Tenure</th>\n",
       "      <th>Balance</th>\n",
       "      <th>NumOfProducts</th>\n",
       "      <th>HasCrCard</th>\n",
       "      <th>IsActiveMember</th>\n",
       "      <th>EstimatedSalary</th>\n",
       "      <th>Exited</th>\n",
       "    </tr>\n",
       "  </thead>\n",
       "  <tbody>\n",
       "    <tr>\n",
       "      <th>9925</th>\n",
       "      <td>9926</td>\n",
       "      <td>15605672</td>\n",
       "      <td>Yuan</td>\n",
       "      <td>694</td>\n",
       "      <td>France</td>\n",
       "      <td>Female</td>\n",
       "      <td>38</td>\n",
       "      <td>NaN</td>\n",
       "      <td>195926.39</td>\n",
       "      <td>1</td>\n",
       "      <td>1</td>\n",
       "      <td>1</td>\n",
       "      <td>85522.84</td>\n",
       "      <td>0</td>\n",
       "    </tr>\n",
       "    <tr>\n",
       "      <th>8289</th>\n",
       "      <td>8290</td>\n",
       "      <td>15625023</td>\n",
       "      <td>Onochie</td>\n",
       "      <td>682</td>\n",
       "      <td>France</td>\n",
       "      <td>Male</td>\n",
       "      <td>40</td>\n",
       "      <td>NaN</td>\n",
       "      <td>0.00</td>\n",
       "      <td>1</td>\n",
       "      <td>0</td>\n",
       "      <td>1</td>\n",
       "      <td>105352.55</td>\n",
       "      <td>0</td>\n",
       "    </tr>\n",
       "    <tr>\n",
       "      <th>7028</th>\n",
       "      <td>7029</td>\n",
       "      <td>15618410</td>\n",
       "      <td>Murray</td>\n",
       "      <td>718</td>\n",
       "      <td>Germany</td>\n",
       "      <td>Male</td>\n",
       "      <td>26</td>\n",
       "      <td>NaN</td>\n",
       "      <td>147527.03</td>\n",
       "      <td>1</td>\n",
       "      <td>0</td>\n",
       "      <td>0</td>\n",
       "      <td>51099.56</td>\n",
       "      <td>0</td>\n",
       "    </tr>\n",
       "    <tr>\n",
       "      <th>7351</th>\n",
       "      <td>7352</td>\n",
       "      <td>15568878</td>\n",
       "      <td>Cheng</td>\n",
       "      <td>654</td>\n",
       "      <td>Spain</td>\n",
       "      <td>Male</td>\n",
       "      <td>34</td>\n",
       "      <td>NaN</td>\n",
       "      <td>0.00</td>\n",
       "      <td>2</td>\n",
       "      <td>1</td>\n",
       "      <td>0</td>\n",
       "      <td>159311.46</td>\n",
       "      <td>0</td>\n",
       "    </tr>\n",
       "    <tr>\n",
       "      <th>8739</th>\n",
       "      <td>8740</td>\n",
       "      <td>15615219</td>\n",
       "      <td>Obielumani</td>\n",
       "      <td>518</td>\n",
       "      <td>France</td>\n",
       "      <td>Male</td>\n",
       "      <td>59</td>\n",
       "      <td>NaN</td>\n",
       "      <td>138772.15</td>\n",
       "      <td>1</td>\n",
       "      <td>0</td>\n",
       "      <td>1</td>\n",
       "      <td>123872.00</td>\n",
       "      <td>0</td>\n",
       "    </tr>\n",
       "    <tr>\n",
       "      <th>1059</th>\n",
       "      <td>1060</td>\n",
       "      <td>15812197</td>\n",
       "      <td>Kline</td>\n",
       "      <td>850</td>\n",
       "      <td>France</td>\n",
       "      <td>Male</td>\n",
       "      <td>38</td>\n",
       "      <td>NaN</td>\n",
       "      <td>80293.98</td>\n",
       "      <td>1</td>\n",
       "      <td>0</td>\n",
       "      <td>0</td>\n",
       "      <td>126555.74</td>\n",
       "      <td>0</td>\n",
       "    </tr>\n",
       "    <tr>\n",
       "      <th>4319</th>\n",
       "      <td>4320</td>\n",
       "      <td>15759456</td>\n",
       "      <td>Lupton</td>\n",
       "      <td>609</td>\n",
       "      <td>Spain</td>\n",
       "      <td>Male</td>\n",
       "      <td>34</td>\n",
       "      <td>NaN</td>\n",
       "      <td>140694.78</td>\n",
       "      <td>2</td>\n",
       "      <td>1</td>\n",
       "      <td>0</td>\n",
       "      <td>46266.63</td>\n",
       "      <td>0</td>\n",
       "    </tr>\n",
       "    <tr>\n",
       "      <th>2619</th>\n",
       "      <td>2620</td>\n",
       "      <td>15800062</td>\n",
       "      <td>Lanford</td>\n",
       "      <td>850</td>\n",
       "      <td>Spain</td>\n",
       "      <td>Male</td>\n",
       "      <td>49</td>\n",
       "      <td>NaN</td>\n",
       "      <td>0.00</td>\n",
       "      <td>1</td>\n",
       "      <td>0</td>\n",
       "      <td>0</td>\n",
       "      <td>25867.67</td>\n",
       "      <td>1</td>\n",
       "    </tr>\n",
       "    <tr>\n",
       "      <th>4974</th>\n",
       "      <td>4975</td>\n",
       "      <td>15744942</td>\n",
       "      <td>Steele</td>\n",
       "      <td>638</td>\n",
       "      <td>Spain</td>\n",
       "      <td>Female</td>\n",
       "      <td>55</td>\n",
       "      <td>NaN</td>\n",
       "      <td>155828.22</td>\n",
       "      <td>1</td>\n",
       "      <td>0</td>\n",
       "      <td>1</td>\n",
       "      <td>108987.25</td>\n",
       "      <td>1</td>\n",
       "    </tr>\n",
       "    <tr>\n",
       "      <th>8536</th>\n",
       "      <td>8537</td>\n",
       "      <td>15676576</td>\n",
       "      <td>Stephenson</td>\n",
       "      <td>646</td>\n",
       "      <td>France</td>\n",
       "      <td>Female</td>\n",
       "      <td>43</td>\n",
       "      <td>NaN</td>\n",
       "      <td>143061.88</td>\n",
       "      <td>1</td>\n",
       "      <td>1</td>\n",
       "      <td>0</td>\n",
       "      <td>61937.60</td>\n",
       "      <td>0</td>\n",
       "    </tr>\n",
       "    <tr>\n",
       "      <th>8894</th>\n",
       "      <td>8895</td>\n",
       "      <td>15631222</td>\n",
       "      <td>Cattaneo</td>\n",
       "      <td>485</td>\n",
       "      <td>France</td>\n",
       "      <td>Female</td>\n",
       "      <td>39</td>\n",
       "      <td>NaN</td>\n",
       "      <td>75339.64</td>\n",
       "      <td>1</td>\n",
       "      <td>1</td>\n",
       "      <td>1</td>\n",
       "      <td>70665.16</td>\n",
       "      <td>0</td>\n",
       "    </tr>\n",
       "    <tr>\n",
       "      <th>270</th>\n",
       "      <td>271</td>\n",
       "      <td>15787071</td>\n",
       "      <td>Dulhunty</td>\n",
       "      <td>650</td>\n",
       "      <td>Spain</td>\n",
       "      <td>Male</td>\n",
       "      <td>41</td>\n",
       "      <td>NaN</td>\n",
       "      <td>0.00</td>\n",
       "      <td>2</td>\n",
       "      <td>0</td>\n",
       "      <td>1</td>\n",
       "      <td>191599.67</td>\n",
       "      <td>0</td>\n",
       "    </tr>\n",
       "    <tr>\n",
       "      <th>6798</th>\n",
       "      <td>6799</td>\n",
       "      <td>15799925</td>\n",
       "      <td>Uwakwe</td>\n",
       "      <td>800</td>\n",
       "      <td>France</td>\n",
       "      <td>Male</td>\n",
       "      <td>60</td>\n",
       "      <td>NaN</td>\n",
       "      <td>88541.57</td>\n",
       "      <td>2</td>\n",
       "      <td>1</td>\n",
       "      <td>1</td>\n",
       "      <td>131718.12</td>\n",
       "      <td>0</td>\n",
       "    </tr>\n",
       "    <tr>\n",
       "      <th>8449</th>\n",
       "      <td>8450</td>\n",
       "      <td>15625716</td>\n",
       "      <td>Genovesi</td>\n",
       "      <td>637</td>\n",
       "      <td>France</td>\n",
       "      <td>Female</td>\n",
       "      <td>33</td>\n",
       "      <td>NaN</td>\n",
       "      <td>113913.53</td>\n",
       "      <td>1</td>\n",
       "      <td>0</td>\n",
       "      <td>1</td>\n",
       "      <td>65316.50</td>\n",
       "      <td>0</td>\n",
       "    </tr>\n",
       "    <tr>\n",
       "      <th>9569</th>\n",
       "      <td>9570</td>\n",
       "      <td>15643523</td>\n",
       "      <td>Power</td>\n",
       "      <td>710</td>\n",
       "      <td>Spain</td>\n",
       "      <td>Female</td>\n",
       "      <td>30</td>\n",
       "      <td>NaN</td>\n",
       "      <td>0.00</td>\n",
       "      <td>2</td>\n",
       "      <td>1</td>\n",
       "      <td>0</td>\n",
       "      <td>19500.10</td>\n",
       "      <td>0</td>\n",
       "    </tr>\n",
       "    <tr>\n",
       "      <th>1820</th>\n",
       "      <td>1821</td>\n",
       "      <td>15797389</td>\n",
       "      <td>Hsia</td>\n",
       "      <td>604</td>\n",
       "      <td>Spain</td>\n",
       "      <td>Male</td>\n",
       "      <td>23</td>\n",
       "      <td>NaN</td>\n",
       "      <td>124577.33</td>\n",
       "      <td>1</td>\n",
       "      <td>1</td>\n",
       "      <td>1</td>\n",
       "      <td>7267.25</td>\n",
       "      <td>0</td>\n",
       "    </tr>\n",
       "    <tr>\n",
       "      <th>1281</th>\n",
       "      <td>1282</td>\n",
       "      <td>15779182</td>\n",
       "      <td>Chia</td>\n",
       "      <td>790</td>\n",
       "      <td>Spain</td>\n",
       "      <td>Male</td>\n",
       "      <td>46</td>\n",
       "      <td>NaN</td>\n",
       "      <td>182364.53</td>\n",
       "      <td>1</td>\n",
       "      <td>0</td>\n",
       "      <td>0</td>\n",
       "      <td>139266.48</td>\n",
       "      <td>1</td>\n",
       "    </tr>\n",
       "    <tr>\n",
       "      <th>9441</th>\n",
       "      <td>9442</td>\n",
       "      <td>15702656</td>\n",
       "      <td>Yobachi</td>\n",
       "      <td>651</td>\n",
       "      <td>France</td>\n",
       "      <td>Female</td>\n",
       "      <td>33</td>\n",
       "      <td>NaN</td>\n",
       "      <td>96834.78</td>\n",
       "      <td>1</td>\n",
       "      <td>1</td>\n",
       "      <td>0</td>\n",
       "      <td>108764.69</td>\n",
       "      <td>0</td>\n",
       "    </tr>\n",
       "    <tr>\n",
       "      <th>5452</th>\n",
       "      <td>5453</td>\n",
       "      <td>15798256</td>\n",
       "      <td>Takasuka</td>\n",
       "      <td>558</td>\n",
       "      <td>France</td>\n",
       "      <td>Female</td>\n",
       "      <td>45</td>\n",
       "      <td>NaN</td>\n",
       "      <td>153697.53</td>\n",
       "      <td>2</td>\n",
       "      <td>0</td>\n",
       "      <td>0</td>\n",
       "      <td>89891.40</td>\n",
       "      <td>1</td>\n",
       "    </tr>\n",
       "    <tr>\n",
       "      <th>9183</th>\n",
       "      <td>9184</td>\n",
       "      <td>15676091</td>\n",
       "      <td>Iloerika</td>\n",
       "      <td>543</td>\n",
       "      <td>France</td>\n",
       "      <td>Male</td>\n",
       "      <td>42</td>\n",
       "      <td>NaN</td>\n",
       "      <td>0.00</td>\n",
       "      <td>1</td>\n",
       "      <td>1</td>\n",
       "      <td>1</td>\n",
       "      <td>56650.47</td>\n",
       "      <td>0</td>\n",
       "    </tr>\n",
       "    <tr>\n",
       "      <th>8589</th>\n",
       "      <td>8590</td>\n",
       "      <td>15637829</td>\n",
       "      <td>Sharpe</td>\n",
       "      <td>691</td>\n",
       "      <td>France</td>\n",
       "      <td>Female</td>\n",
       "      <td>34</td>\n",
       "      <td>NaN</td>\n",
       "      <td>0.00</td>\n",
       "      <td>2</td>\n",
       "      <td>0</td>\n",
       "      <td>1</td>\n",
       "      <td>161559.12</td>\n",
       "      <td>0</td>\n",
       "    </tr>\n",
       "    <tr>\n",
       "      <th>9529</th>\n",
       "      <td>9530</td>\n",
       "      <td>15661708</td>\n",
       "      <td>She</td>\n",
       "      <td>508</td>\n",
       "      <td>France</td>\n",
       "      <td>Female</td>\n",
       "      <td>41</td>\n",
       "      <td>NaN</td>\n",
       "      <td>0.00</td>\n",
       "      <td>2</td>\n",
       "      <td>1</td>\n",
       "      <td>1</td>\n",
       "      <td>94170.84</td>\n",
       "      <td>0</td>\n",
       "    </tr>\n",
       "    <tr>\n",
       "      <th>799</th>\n",
       "      <td>800</td>\n",
       "      <td>15567367</td>\n",
       "      <td>Tao</td>\n",
       "      <td>601</td>\n",
       "      <td>Germany</td>\n",
       "      <td>Female</td>\n",
       "      <td>42</td>\n",
       "      <td>NaN</td>\n",
       "      <td>133636.16</td>\n",
       "      <td>1</td>\n",
       "      <td>0</td>\n",
       "      <td>1</td>\n",
       "      <td>103315.74</td>\n",
       "      <td>0</td>\n",
       "    </tr>\n",
       "    <tr>\n",
       "      <th>2310</th>\n",
       "      <td>2311</td>\n",
       "      <td>15569222</td>\n",
       "      <td>Mendes</td>\n",
       "      <td>781</td>\n",
       "      <td>France</td>\n",
       "      <td>Male</td>\n",
       "      <td>32</td>\n",
       "      <td>NaN</td>\n",
       "      <td>147107.91</td>\n",
       "      <td>1</td>\n",
       "      <td>1</td>\n",
       "      <td>1</td>\n",
       "      <td>40066.95</td>\n",
       "      <td>0</td>\n",
       "    </tr>\n",
       "    <tr>\n",
       "      <th>8403</th>\n",
       "      <td>8404</td>\n",
       "      <td>15707219</td>\n",
       "      <td>Hopman</td>\n",
       "      <td>844</td>\n",
       "      <td>France</td>\n",
       "      <td>Female</td>\n",
       "      <td>28</td>\n",
       "      <td>NaN</td>\n",
       "      <td>0.00</td>\n",
       "      <td>2</td>\n",
       "      <td>0</td>\n",
       "      <td>1</td>\n",
       "      <td>123318.37</td>\n",
       "      <td>0</td>\n",
       "    </tr>\n",
       "  </tbody>\n",
       "</table>\n",
       "</div>"
      ],
      "text/plain": [
       "      RowNumber  CustomerId     Surname  CreditScore Geography  Gender  Age  \\\n",
       "9925       9926    15605672        Yuan          694    France  Female   38   \n",
       "8289       8290    15625023     Onochie          682    France    Male   40   \n",
       "7028       7029    15618410      Murray          718   Germany    Male   26   \n",
       "7351       7352    15568878       Cheng          654     Spain    Male   34   \n",
       "8739       8740    15615219  Obielumani          518    France    Male   59   \n",
       "1059       1060    15812197       Kline          850    France    Male   38   \n",
       "4319       4320    15759456      Lupton          609     Spain    Male   34   \n",
       "2619       2620    15800062     Lanford          850     Spain    Male   49   \n",
       "4974       4975    15744942      Steele          638     Spain  Female   55   \n",
       "8536       8537    15676576  Stephenson          646    France  Female   43   \n",
       "8894       8895    15631222    Cattaneo          485    France  Female   39   \n",
       "270         271    15787071    Dulhunty          650     Spain    Male   41   \n",
       "6798       6799    15799925      Uwakwe          800    France    Male   60   \n",
       "8449       8450    15625716    Genovesi          637    France  Female   33   \n",
       "9569       9570    15643523       Power          710     Spain  Female   30   \n",
       "1820       1821    15797389        Hsia          604     Spain    Male   23   \n",
       "1281       1282    15779182        Chia          790     Spain    Male   46   \n",
       "9441       9442    15702656     Yobachi          651    France  Female   33   \n",
       "5452       5453    15798256    Takasuka          558    France  Female   45   \n",
       "9183       9184    15676091    Iloerika          543    France    Male   42   \n",
       "8589       8590    15637829      Sharpe          691    France  Female   34   \n",
       "9529       9530    15661708         She          508    France  Female   41   \n",
       "799         800    15567367         Tao          601   Germany  Female   42   \n",
       "2310       2311    15569222      Mendes          781    France    Male   32   \n",
       "8403       8404    15707219      Hopman          844    France  Female   28   \n",
       "\n",
       "      Tenure    Balance  NumOfProducts  HasCrCard  IsActiveMember  \\\n",
       "9925     NaN  195926.39              1          1               1   \n",
       "8289     NaN       0.00              1          0               1   \n",
       "7028     NaN  147527.03              1          0               0   \n",
       "7351     NaN       0.00              2          1               0   \n",
       "8739     NaN  138772.15              1          0               1   \n",
       "1059     NaN   80293.98              1          0               0   \n",
       "4319     NaN  140694.78              2          1               0   \n",
       "2619     NaN       0.00              1          0               0   \n",
       "4974     NaN  155828.22              1          0               1   \n",
       "8536     NaN  143061.88              1          1               0   \n",
       "8894     NaN   75339.64              1          1               1   \n",
       "270      NaN       0.00              2          0               1   \n",
       "6798     NaN   88541.57              2          1               1   \n",
       "8449     NaN  113913.53              1          0               1   \n",
       "9569     NaN       0.00              2          1               0   \n",
       "1820     NaN  124577.33              1          1               1   \n",
       "1281     NaN  182364.53              1          0               0   \n",
       "9441     NaN   96834.78              1          1               0   \n",
       "5452     NaN  153697.53              2          0               0   \n",
       "9183     NaN       0.00              1          1               1   \n",
       "8589     NaN       0.00              2          0               1   \n",
       "9529     NaN       0.00              2          1               1   \n",
       "799      NaN  133636.16              1          0               1   \n",
       "2310     NaN  147107.91              1          1               1   \n",
       "8403     NaN       0.00              2          0               1   \n",
       "\n",
       "      EstimatedSalary  Exited  \n",
       "9925         85522.84       0  \n",
       "8289        105352.55       0  \n",
       "7028         51099.56       0  \n",
       "7351        159311.46       0  \n",
       "8739        123872.00       0  \n",
       "1059        126555.74       0  \n",
       "4319         46266.63       0  \n",
       "2619         25867.67       1  \n",
       "4974        108987.25       1  \n",
       "8536         61937.60       0  \n",
       "8894         70665.16       0  \n",
       "270         191599.67       0  \n",
       "6798        131718.12       0  \n",
       "8449         65316.50       0  \n",
       "9569         19500.10       0  \n",
       "1820          7267.25       0  \n",
       "1281        139266.48       1  \n",
       "9441        108764.69       0  \n",
       "5452         89891.40       1  \n",
       "9183         56650.47       0  \n",
       "8589        161559.12       0  \n",
       "9529         94170.84       0  \n",
       "799         103315.74       0  \n",
       "2310         40066.95       0  \n",
       "8403        123318.37       0  "
      ]
     },
     "execution_count": 7,
     "metadata": {},
     "output_type": "execute_result"
    }
   ],
   "source": [
    "# Посмотрим часть объектов, у которых признак Tenure не определён\n",
    "df[df['Tenure'].isna()].sample(25)"
   ]
  },
  {
   "cell_type": "markdown",
   "metadata": {},
   "source": [
    "Как видим, признак не определён для разнообразных объектов: и для объектов с нулевым счётом, и с ненулевым, для покинувших банк, и для не покинувших. Имеющаяся информация не позволяет достоверно определить значение признака `Tenure`. Можно попытаться восстановить значение признака путём обучения модели с целевым признаком `Tenure`, но делать этого не будем, т.к. во-первых, имеющихся данных о 9091 объектах достаточно для обучения и проверки модели для целевого признака `Exited`, а во-вторых, при обучении модели на целевой признак `Tenure` нам пришлось бы использовать целевой признак в качестве простого признака, что может привести к переобученности модели с целевым признаком `Exited`. Таким образом, удаляем данные с пропусками."
   ]
  },
  {
   "cell_type": "code",
   "execution_count": 8,
   "metadata": {
    "ExecuteTime": {
     "end_time": "2023-05-11T16:11:06.198020Z",
     "start_time": "2023-05-11T16:11:06.139179Z"
    }
   },
   "outputs": [
    {
     "name": "stdout",
     "output_type": "stream",
     "text": [
      "<class 'pandas.core.frame.DataFrame'>\n",
      "Int64Index: 9091 entries, 0 to 9998\n",
      "Data columns (total 14 columns):\n",
      " #   Column           Non-Null Count  Dtype  \n",
      "---  ------           --------------  -----  \n",
      " 0   RowNumber        9091 non-null   int64  \n",
      " 1   CustomerId       9091 non-null   int64  \n",
      " 2   Surname          9091 non-null   object \n",
      " 3   CreditScore      9091 non-null   int64  \n",
      " 4   Geography        9091 non-null   object \n",
      " 5   Gender           9091 non-null   object \n",
      " 6   Age              9091 non-null   int64  \n",
      " 7   Tenure           9091 non-null   float64\n",
      " 8   Balance          9091 non-null   float64\n",
      " 9   NumOfProducts    9091 non-null   int64  \n",
      " 10  HasCrCard        9091 non-null   int64  \n",
      " 11  IsActiveMember   9091 non-null   int64  \n",
      " 12  EstimatedSalary  9091 non-null   float64\n",
      " 13  Exited           9091 non-null   int64  \n",
      "dtypes: float64(3), int64(8), object(3)\n",
      "memory usage: 1.0+ MB\n"
     ]
    }
   ],
   "source": [
    "df = df[~(df['Tenure'].isna())].copy()\n",
    "df.info()"
   ]
  },
  {
   "cell_type": "code",
   "execution_count": 9,
   "metadata": {
    "ExecuteTime": {
     "end_time": "2023-05-11T16:11:06.245893Z",
     "start_time": "2023-05-11T16:11:06.203007Z"
    }
   },
   "outputs": [
    {
     "data": {
      "text/plain": [
       "0"
      ]
     },
     "execution_count": 9,
     "metadata": {},
     "output_type": "execute_result"
    }
   ],
   "source": [
    "# Проверим на наличие дубликатов\n",
    "df.duplicated().sum()"
   ]
  },
  {
   "cell_type": "markdown",
   "metadata": {},
   "source": [
    "Столбцы RowNumber, CustomerId, Surname не несут в себе ценныой информации с точки зрения предсказания целевого признака. Это случайные параметры, которые просто идентифицируют клиента, но ничего не позволяют сказать о его поведении. Удалим указанные столбцы."
   ]
  },
  {
   "cell_type": "code",
   "execution_count": 10,
   "metadata": {
    "ExecuteTime": {
     "end_time": "2023-05-11T16:11:06.293765Z",
     "start_time": "2023-05-11T16:11:06.256867Z"
    }
   },
   "outputs": [
    {
     "name": "stdout",
     "output_type": "stream",
     "text": [
      "<class 'pandas.core.frame.DataFrame'>\n",
      "Int64Index: 9091 entries, 0 to 9998\n",
      "Data columns (total 11 columns):\n",
      " #   Column           Non-Null Count  Dtype  \n",
      "---  ------           --------------  -----  \n",
      " 0   CreditScore      9091 non-null   int64  \n",
      " 1   Geography        9091 non-null   object \n",
      " 2   Gender           9091 non-null   object \n",
      " 3   Age              9091 non-null   int64  \n",
      " 4   Tenure           9091 non-null   float64\n",
      " 5   Balance          9091 non-null   float64\n",
      " 6   NumOfProducts    9091 non-null   int64  \n",
      " 7   HasCrCard        9091 non-null   int64  \n",
      " 8   IsActiveMember   9091 non-null   int64  \n",
      " 9   EstimatedSalary  9091 non-null   float64\n",
      " 10  Exited           9091 non-null   int64  \n",
      "dtypes: float64(3), int64(6), object(2)\n",
      "memory usage: 852.3+ KB\n"
     ]
    }
   ],
   "source": [
    "df = df.drop(['RowNumber', 'CustomerId', 'Surname'], axis=1)\n",
    "df.info()"
   ]
  },
  {
   "cell_type": "code",
   "execution_count": 11,
   "metadata": {
    "ExecuteTime": {
     "end_time": "2023-05-11T16:11:06.309722Z",
     "start_time": "2023-05-11T16:11:06.299751Z"
    }
   },
   "outputs": [],
   "source": [
    "# Для дальнейшей работы составим список столбцов с числовыми данными\n",
    "numeric=['CreditScore', 'Age', 'Tenure', 'Balance', 'NumOfProducts', 'EstimatedSalary']"
   ]
  },
  {
   "cell_type": "code",
   "execution_count": 12,
   "metadata": {
    "ExecuteTime": {
     "end_time": "2023-05-11T16:11:06.388510Z",
     "start_time": "2023-05-11T16:11:06.315707Z"
    }
   },
   "outputs": [
    {
     "data": {
      "text/html": [
       "<div>\n",
       "<style scoped>\n",
       "    .dataframe tbody tr th:only-of-type {\n",
       "        vertical-align: middle;\n",
       "    }\n",
       "\n",
       "    .dataframe tbody tr th {\n",
       "        vertical-align: top;\n",
       "    }\n",
       "\n",
       "    .dataframe thead th {\n",
       "        text-align: right;\n",
       "    }\n",
       "</style>\n",
       "<table border=\"1\" class=\"dataframe\">\n",
       "  <thead>\n",
       "    <tr style=\"text-align: right;\">\n",
       "      <th></th>\n",
       "      <th>CreditScore</th>\n",
       "      <th>Age</th>\n",
       "      <th>Tenure</th>\n",
       "      <th>Balance</th>\n",
       "      <th>NumOfProducts</th>\n",
       "      <th>EstimatedSalary</th>\n",
       "    </tr>\n",
       "  </thead>\n",
       "  <tbody>\n",
       "    <tr>\n",
       "      <th>count</th>\n",
       "      <td>9091.000000</td>\n",
       "      <td>9091.000000</td>\n",
       "      <td>9091.000000</td>\n",
       "      <td>9091.000000</td>\n",
       "      <td>9091.000000</td>\n",
       "      <td>9091.000000</td>\n",
       "    </tr>\n",
       "    <tr>\n",
       "      <th>mean</th>\n",
       "      <td>650.736553</td>\n",
       "      <td>38.949181</td>\n",
       "      <td>4.997690</td>\n",
       "      <td>76522.740015</td>\n",
       "      <td>1.530195</td>\n",
       "      <td>100181.214924</td>\n",
       "    </tr>\n",
       "    <tr>\n",
       "      <th>std</th>\n",
       "      <td>96.410471</td>\n",
       "      <td>10.555581</td>\n",
       "      <td>2.894723</td>\n",
       "      <td>62329.528576</td>\n",
       "      <td>0.581003</td>\n",
       "      <td>57624.755647</td>\n",
       "    </tr>\n",
       "    <tr>\n",
       "      <th>min</th>\n",
       "      <td>350.000000</td>\n",
       "      <td>18.000000</td>\n",
       "      <td>0.000000</td>\n",
       "      <td>0.000000</td>\n",
       "      <td>1.000000</td>\n",
       "      <td>11.580000</td>\n",
       "    </tr>\n",
       "    <tr>\n",
       "      <th>25%</th>\n",
       "      <td>584.000000</td>\n",
       "      <td>32.000000</td>\n",
       "      <td>2.000000</td>\n",
       "      <td>0.000000</td>\n",
       "      <td>1.000000</td>\n",
       "      <td>51227.745000</td>\n",
       "    </tr>\n",
       "    <tr>\n",
       "      <th>50%</th>\n",
       "      <td>652.000000</td>\n",
       "      <td>37.000000</td>\n",
       "      <td>5.000000</td>\n",
       "      <td>97318.250000</td>\n",
       "      <td>1.000000</td>\n",
       "      <td>100240.200000</td>\n",
       "    </tr>\n",
       "    <tr>\n",
       "      <th>75%</th>\n",
       "      <td>717.000000</td>\n",
       "      <td>44.000000</td>\n",
       "      <td>7.000000</td>\n",
       "      <td>127561.890000</td>\n",
       "      <td>2.000000</td>\n",
       "      <td>149567.210000</td>\n",
       "    </tr>\n",
       "    <tr>\n",
       "      <th>max</th>\n",
       "      <td>850.000000</td>\n",
       "      <td>92.000000</td>\n",
       "      <td>10.000000</td>\n",
       "      <td>250898.090000</td>\n",
       "      <td>4.000000</td>\n",
       "      <td>199992.480000</td>\n",
       "    </tr>\n",
       "  </tbody>\n",
       "</table>\n",
       "</div>"
      ],
      "text/plain": [
       "       CreditScore          Age       Tenure        Balance  NumOfProducts  \\\n",
       "count  9091.000000  9091.000000  9091.000000    9091.000000    9091.000000   \n",
       "mean    650.736553    38.949181     4.997690   76522.740015       1.530195   \n",
       "std      96.410471    10.555581     2.894723   62329.528576       0.581003   \n",
       "min     350.000000    18.000000     0.000000       0.000000       1.000000   \n",
       "25%     584.000000    32.000000     2.000000       0.000000       1.000000   \n",
       "50%     652.000000    37.000000     5.000000   97318.250000       1.000000   \n",
       "75%     717.000000    44.000000     7.000000  127561.890000       2.000000   \n",
       "max     850.000000    92.000000    10.000000  250898.090000       4.000000   \n",
       "\n",
       "       EstimatedSalary  \n",
       "count      9091.000000  \n",
       "mean     100181.214924  \n",
       "std       57624.755647  \n",
       "min          11.580000  \n",
       "25%       51227.745000  \n",
       "50%      100240.200000  \n",
       "75%      149567.210000  \n",
       "max      199992.480000  "
      ]
     },
     "execution_count": 12,
     "metadata": {},
     "output_type": "execute_result"
    }
   ],
   "source": [
    "# Рассмотрим данные числовых столбцов\n",
    "df[numeric].describe()"
   ]
  },
  {
   "cell_type": "markdown",
   "metadata": {},
   "source": [
    "Все числовые данные не выглядят аномальными. Рассмотрим оставшиеся столбцы."
   ]
  },
  {
   "cell_type": "code",
   "execution_count": 13,
   "metadata": {
    "ExecuteTime": {
     "end_time": "2023-05-11T16:11:06.419428Z",
     "start_time": "2023-05-11T16:11:06.393499Z"
    }
   },
   "outputs": [
    {
     "data": {
      "text/plain": [
       "France     4550\n",
       "Germany    2293\n",
       "Spain      2248\n",
       "Name: Geography, dtype: int64"
      ]
     },
     "execution_count": 13,
     "metadata": {},
     "output_type": "execute_result"
    }
   ],
   "source": [
    "df['Geography'].value_counts()"
   ]
  },
  {
   "cell_type": "code",
   "execution_count": 14,
   "metadata": {
    "ExecuteTime": {
     "end_time": "2023-05-11T16:11:06.451343Z",
     "start_time": "2023-05-11T16:11:06.426410Z"
    }
   },
   "outputs": [
    {
     "data": {
      "text/plain": [
       "Male      4974\n",
       "Female    4117\n",
       "Name: Gender, dtype: int64"
      ]
     },
     "execution_count": 14,
     "metadata": {},
     "output_type": "execute_result"
    }
   ],
   "source": [
    "df['Gender'].value_counts()"
   ]
  },
  {
   "cell_type": "code",
   "execution_count": 15,
   "metadata": {
    "ExecuteTime": {
     "end_time": "2023-05-11T16:11:06.483258Z",
     "start_time": "2023-05-11T16:11:06.458325Z"
    }
   },
   "outputs": [
    {
     "data": {
      "text/plain": [
       "1    6409\n",
       "0    2682\n",
       "Name: HasCrCard, dtype: int64"
      ]
     },
     "execution_count": 15,
     "metadata": {},
     "output_type": "execute_result"
    }
   ],
   "source": [
    "df['HasCrCard'].value_counts()"
   ]
  },
  {
   "cell_type": "code",
   "execution_count": 16,
   "metadata": {
    "ExecuteTime": {
     "end_time": "2023-05-11T16:11:06.515172Z",
     "start_time": "2023-05-11T16:11:06.490240Z"
    }
   },
   "outputs": [
    {
     "data": {
      "text/plain": [
       "1    4687\n",
       "0    4404\n",
       "Name: IsActiveMember, dtype: int64"
      ]
     },
     "execution_count": 16,
     "metadata": {},
     "output_type": "execute_result"
    }
   ],
   "source": [
    "df['IsActiveMember'].value_counts()"
   ]
  },
  {
   "cell_type": "markdown",
   "metadata": {},
   "source": [
    "Так как модели не работают с категориальными переменными, для обеспечения возможности обучения модели выполним прямое кодирование категориальных признаков. Коме того, учитывя большую разницу в масштабах значений числовых признаков, выполним масштабирование числовых признаков."
   ]
  },
  {
   "cell_type": "markdown",
   "metadata": {},
   "source": [
    "Подготовим выборки: обучаюшую, валидационную и тестовую. Соотношение мощностей выборок будет 60:20:20."
   ]
  },
  {
   "cell_type": "code",
   "execution_count": 17,
   "metadata": {
    "ExecuteTime": {
     "end_time": "2023-05-11T16:11:06.880195Z",
     "start_time": "2023-05-11T16:11:06.521155Z"
    }
   },
   "outputs": [],
   "source": [
    "target = df['Exited']\n",
    "features = df.drop('Exited', axis=1)\n",
    "features_train, features_validtest, target_train, target_validtest = train_test_split(\n",
    "    features, target, test_size=0.4, random_state=RANDOM_STATE)\n",
    "features_valid, features_test, target_valid, target_test = train_test_split(\n",
    "    features_validtest, target_validtest, test_size=0.5, random_state=RANDOM_STATE)"
   ]
  },
  {
   "cell_type": "code",
   "execution_count": 18,
   "metadata": {
    "ExecuteTime": {
     "end_time": "2023-05-11T16:11:06.911112Z",
     "start_time": "2023-05-11T16:11:06.886179Z"
    },
    "scrolled": false
   },
   "outputs": [
    {
     "name": "stdout",
     "output_type": "stream",
     "text": [
      "Размер выборок:\n",
      "общий 9091,\n",
      "обучающая 5454,\n",
      "валидационная 1818,\n",
      "тестовая 1819.\n"
     ]
    }
   ],
   "source": [
    "print('Размер выборок:')\n",
    "print('общий ', df.shape[0], ',', sep='')\n",
    "print('обучающая ', features_train.shape[0], ',', sep='')\n",
    "print('валидационная ', features_valid.shape[0], ',', sep='')\n",
    "print('тестовая ', features_test.shape[0], '.', sep='')"
   ]
  },
  {
   "cell_type": "markdown",
   "metadata": {},
   "source": [
    "Выполним прямое кодирование категориальных переменных"
   ]
  },
  {
   "cell_type": "code",
   "execution_count": 19,
   "metadata": {
    "ExecuteTime": {
     "end_time": "2023-05-11T16:11:06.942033Z",
     "start_time": "2023-05-11T16:11:06.916140Z"
    }
   },
   "outputs": [
    {
     "data": {
      "text/plain": [
       "['Geography', 'Gender']"
      ]
     },
     "execution_count": 19,
     "metadata": {},
     "output_type": "execute_result"
    }
   ],
   "source": [
    "# Составим список признаков для прямого кодирования\n",
    "features_ohe = df.select_dtypes(include='object').columns.to_list()\n",
    "features_ohe"
   ]
  },
  {
   "cell_type": "code",
   "execution_count": 20,
   "metadata": {
    "ExecuteTime": {
     "end_time": "2023-05-11T16:11:07.037393Z",
     "start_time": "2023-05-11T16:11:06.948015Z"
    }
   },
   "outputs": [],
   "source": [
    "# drop='first' удаляет первый признак из закодированных:\n",
    "# таким образом обходим dummy-ловушку\n",
    "# задаём handle_unknown='ignore':\n",
    "# игнорируется ранее невстречающиеся значения признака (при transform)\n",
    "encoder_ohe = OneHotEncoder(drop='first', handle_unknown='ignore', sparse=False)\n",
    "\n",
    "# обучаем энкодер на заданных категориальных признаках тренировочной выборки\n",
    "encoder_ohe.fit(features_train[features_ohe])\n",
    "\n",
    "# добавляем закодированные признаки в features_train\n",
    "# encoder_ohe.get_feature_names_out() позволяет получить названия колонок\n",
    "features_train_ohe = features_train.copy()\n",
    "features_train_ohe[\n",
    "    encoder_ohe.get_feature_names_out()\n",
    "] = encoder_ohe.transform(features_train_ohe[features_ohe])\n",
    "\n",
    "# удаляем незакодированные категориальные признаки (изначальные колонки)\n",
    "features_train_ohe = features_train_ohe.drop(features_ohe, axis=1)\n",
    "\n",
    "# Аналогичные преобразования с подготовленным на обучающей выборке энкодером выполним для валидационной и тестовой выборки\n",
    "# Валидационная\n",
    "features_valid_ohe = features_valid.copy()\n",
    "features_valid_ohe[\n",
    "    encoder_ohe.get_feature_names_out()\n",
    "] = encoder_ohe.transform(features_valid_ohe[features_ohe])\n",
    "features_valid_ohe = features_valid_ohe.drop(features_ohe, axis=1)\n",
    "\n",
    "# Тестовая\n",
    "features_test_ohe = features_test.copy()\n",
    "features_test_ohe[\n",
    "    encoder_ohe.get_feature_names_out()\n",
    "] = encoder_ohe.transform(features_test_ohe[features_ohe])\n",
    "features_test_ohe = features_test_ohe.drop(features_ohe, axis=1)"
   ]
  },
  {
   "cell_type": "code",
   "execution_count": 21,
   "metadata": {
    "ExecuteTime": {
     "end_time": "2023-05-11T16:11:07.115616Z",
     "start_time": "2023-05-11T16:11:07.042387Z"
    }
   },
   "outputs": [],
   "source": [
    "# Выполним масштабирование числовых признаков\n",
    "scaler = StandardScaler()\n",
    "scaler.fit(features_train[numeric])\n",
    "features_train_ohe_scaled = features_train_ohe.copy()\n",
    "features_train_ohe_scaled[numeric] = scaler.transform(features_train_ohe_scaled[numeric])\n",
    "\n",
    "# C подготовленным на обучающей выборке скалером выполним масштабирование признаков валидационной и тестовой выборок\n",
    "# Валидационная\n",
    "features_valid_ohe_scaled = features_valid_ohe.copy()\n",
    "features_valid_ohe_scaled[numeric] = scaler.transform(features_valid_ohe_scaled[numeric])\n",
    "\n",
    "# Тестовая\n",
    "features_test_ohe_scaled = features_test_ohe.copy()\n",
    "features_test_ohe_scaled[numeric] = scaler.transform(features_test_ohe_scaled[numeric])"
   ]
  },
  {
   "cell_type": "code",
   "execution_count": 22,
   "metadata": {
    "ExecuteTime": {
     "end_time": "2023-05-11T16:11:07.211349Z",
     "start_time": "2023-05-11T16:11:07.120559Z"
    }
   },
   "outputs": [
    {
     "data": {
      "text/html": [
       "<div>\n",
       "<style scoped>\n",
       "    .dataframe tbody tr th:only-of-type {\n",
       "        vertical-align: middle;\n",
       "    }\n",
       "\n",
       "    .dataframe tbody tr th {\n",
       "        vertical-align: top;\n",
       "    }\n",
       "\n",
       "    .dataframe thead th {\n",
       "        text-align: right;\n",
       "    }\n",
       "</style>\n",
       "<table border=\"1\" class=\"dataframe\">\n",
       "  <thead>\n",
       "    <tr style=\"text-align: right;\">\n",
       "      <th></th>\n",
       "      <th>CreditScore</th>\n",
       "      <th>Age</th>\n",
       "      <th>Tenure</th>\n",
       "      <th>Balance</th>\n",
       "      <th>NumOfProducts</th>\n",
       "      <th>HasCrCard</th>\n",
       "      <th>IsActiveMember</th>\n",
       "      <th>EstimatedSalary</th>\n",
       "      <th>Geography_Germany</th>\n",
       "      <th>Geography_Spain</th>\n",
       "      <th>Gender_Male</th>\n",
       "    </tr>\n",
       "  </thead>\n",
       "  <tbody>\n",
       "    <tr>\n",
       "      <th>9344</th>\n",
       "      <td>0.809075</td>\n",
       "      <td>-1.039327</td>\n",
       "      <td>-1.025995</td>\n",
       "      <td>0.554904</td>\n",
       "      <td>-0.908179</td>\n",
       "      <td>1</td>\n",
       "      <td>0</td>\n",
       "      <td>0.019508</td>\n",
       "      <td>0.0</td>\n",
       "      <td>0.0</td>\n",
       "      <td>0.0</td>\n",
       "    </tr>\n",
       "    <tr>\n",
       "      <th>3796</th>\n",
       "      <td>-1.152518</td>\n",
       "      <td>-1.227561</td>\n",
       "      <td>0.696524</td>\n",
       "      <td>0.480609</td>\n",
       "      <td>-0.908179</td>\n",
       "      <td>0</td>\n",
       "      <td>0</td>\n",
       "      <td>0.056167</td>\n",
       "      <td>0.0</td>\n",
       "      <td>0.0</td>\n",
       "      <td>1.0</td>\n",
       "    </tr>\n",
       "    <tr>\n",
       "      <th>7462</th>\n",
       "      <td>-0.398853</td>\n",
       "      <td>0.090079</td>\n",
       "      <td>1.385532</td>\n",
       "      <td>-1.237830</td>\n",
       "      <td>-0.908179</td>\n",
       "      <td>1</td>\n",
       "      <td>1</td>\n",
       "      <td>0.848738</td>\n",
       "      <td>0.0</td>\n",
       "      <td>0.0</td>\n",
       "      <td>1.0</td>\n",
       "    </tr>\n",
       "    <tr>\n",
       "      <th>1508</th>\n",
       "      <td>-0.749875</td>\n",
       "      <td>-0.286389</td>\n",
       "      <td>0.352020</td>\n",
       "      <td>-1.237830</td>\n",
       "      <td>0.809300</td>\n",
       "      <td>1</td>\n",
       "      <td>1</td>\n",
       "      <td>-0.894953</td>\n",
       "      <td>0.0</td>\n",
       "      <td>0.0</td>\n",
       "      <td>1.0</td>\n",
       "    </tr>\n",
       "    <tr>\n",
       "      <th>4478</th>\n",
       "      <td>-1.028628</td>\n",
       "      <td>-0.756975</td>\n",
       "      <td>-0.336987</td>\n",
       "      <td>-1.237830</td>\n",
       "      <td>0.809300</td>\n",
       "      <td>0</td>\n",
       "      <td>1</td>\n",
       "      <td>-1.284516</td>\n",
       "      <td>0.0</td>\n",
       "      <td>0.0</td>\n",
       "      <td>1.0</td>\n",
       "    </tr>\n",
       "  </tbody>\n",
       "</table>\n",
       "</div>"
      ],
      "text/plain": [
       "      CreditScore       Age    Tenure   Balance  NumOfProducts  HasCrCard  \\\n",
       "9344     0.809075 -1.039327 -1.025995  0.554904      -0.908179          1   \n",
       "3796    -1.152518 -1.227561  0.696524  0.480609      -0.908179          0   \n",
       "7462    -0.398853  0.090079  1.385532 -1.237830      -0.908179          1   \n",
       "1508    -0.749875 -0.286389  0.352020 -1.237830       0.809300          1   \n",
       "4478    -1.028628 -0.756975 -0.336987 -1.237830       0.809300          0   \n",
       "\n",
       "      IsActiveMember  EstimatedSalary  Geography_Germany  Geography_Spain  \\\n",
       "9344               0         0.019508                0.0              0.0   \n",
       "3796               0         0.056167                0.0              0.0   \n",
       "7462               1         0.848738                0.0              0.0   \n",
       "1508               1        -0.894953                0.0              0.0   \n",
       "4478               1        -1.284516                0.0              0.0   \n",
       "\n",
       "      Gender_Male  \n",
       "9344          0.0  \n",
       "3796          1.0  \n",
       "7462          1.0  \n",
       "1508          1.0  \n",
       "4478          1.0  "
      ]
     },
     "metadata": {},
     "output_type": "display_data"
    },
    {
     "data": {
      "text/html": [
       "<div>\n",
       "<style scoped>\n",
       "    .dataframe tbody tr th:only-of-type {\n",
       "        vertical-align: middle;\n",
       "    }\n",
       "\n",
       "    .dataframe tbody tr th {\n",
       "        vertical-align: top;\n",
       "    }\n",
       "\n",
       "    .dataframe thead th {\n",
       "        text-align: right;\n",
       "    }\n",
       "</style>\n",
       "<table border=\"1\" class=\"dataframe\">\n",
       "  <thead>\n",
       "    <tr style=\"text-align: right;\">\n",
       "      <th></th>\n",
       "      <th>CreditScore</th>\n",
       "      <th>Age</th>\n",
       "      <th>Tenure</th>\n",
       "      <th>Balance</th>\n",
       "      <th>NumOfProducts</th>\n",
       "      <th>HasCrCard</th>\n",
       "      <th>IsActiveMember</th>\n",
       "      <th>EstimatedSalary</th>\n",
       "      <th>Geography_Germany</th>\n",
       "      <th>Geography_Spain</th>\n",
       "      <th>Gender_Male</th>\n",
       "    </tr>\n",
       "  </thead>\n",
       "  <tbody>\n",
       "    <tr>\n",
       "      <th>7445</th>\n",
       "      <td>-1.369326</td>\n",
       "      <td>0.560665</td>\n",
       "      <td>-0.336987</td>\n",
       "      <td>-1.237830</td>\n",
       "      <td>-0.908179</td>\n",
       "      <td>1</td>\n",
       "      <td>0</td>\n",
       "      <td>-0.086537</td>\n",
       "      <td>0.0</td>\n",
       "      <td>0.0</td>\n",
       "      <td>0.0</td>\n",
       "    </tr>\n",
       "    <tr>\n",
       "      <th>8620</th>\n",
       "      <td>1.232367</td>\n",
       "      <td>0.090079</td>\n",
       "      <td>1.041028</td>\n",
       "      <td>-1.237830</td>\n",
       "      <td>0.809300</td>\n",
       "      <td>0</td>\n",
       "      <td>1</td>\n",
       "      <td>-0.537457</td>\n",
       "      <td>0.0</td>\n",
       "      <td>0.0</td>\n",
       "      <td>0.0</td>\n",
       "    </tr>\n",
       "    <tr>\n",
       "      <th>1714</th>\n",
       "      <td>0.840048</td>\n",
       "      <td>0.560665</td>\n",
       "      <td>0.352020</td>\n",
       "      <td>1.231363</td>\n",
       "      <td>-0.908179</td>\n",
       "      <td>0</td>\n",
       "      <td>0</td>\n",
       "      <td>1.070393</td>\n",
       "      <td>1.0</td>\n",
       "      <td>0.0</td>\n",
       "      <td>1.0</td>\n",
       "    </tr>\n",
       "    <tr>\n",
       "      <th>5441</th>\n",
       "      <td>1.056856</td>\n",
       "      <td>-0.945210</td>\n",
       "      <td>-1.370498</td>\n",
       "      <td>0.951231</td>\n",
       "      <td>-0.908179</td>\n",
       "      <td>1</td>\n",
       "      <td>0</td>\n",
       "      <td>-0.576279</td>\n",
       "      <td>0.0</td>\n",
       "      <td>0.0</td>\n",
       "      <td>1.0</td>\n",
       "    </tr>\n",
       "    <tr>\n",
       "      <th>9001</th>\n",
       "      <td>0.406433</td>\n",
       "      <td>-0.662858</td>\n",
       "      <td>0.352020</td>\n",
       "      <td>0.767800</td>\n",
       "      <td>-0.908179</td>\n",
       "      <td>1</td>\n",
       "      <td>1</td>\n",
       "      <td>0.662068</td>\n",
       "      <td>0.0</td>\n",
       "      <td>1.0</td>\n",
       "      <td>1.0</td>\n",
       "    </tr>\n",
       "  </tbody>\n",
       "</table>\n",
       "</div>"
      ],
      "text/plain": [
       "      CreditScore       Age    Tenure   Balance  NumOfProducts  HasCrCard  \\\n",
       "7445    -1.369326  0.560665 -0.336987 -1.237830      -0.908179          1   \n",
       "8620     1.232367  0.090079  1.041028 -1.237830       0.809300          0   \n",
       "1714     0.840048  0.560665  0.352020  1.231363      -0.908179          0   \n",
       "5441     1.056856 -0.945210 -1.370498  0.951231      -0.908179          1   \n",
       "9001     0.406433 -0.662858  0.352020  0.767800      -0.908179          1   \n",
       "\n",
       "      IsActiveMember  EstimatedSalary  Geography_Germany  Geography_Spain  \\\n",
       "7445               0        -0.086537                0.0              0.0   \n",
       "8620               1        -0.537457                0.0              0.0   \n",
       "1714               0         1.070393                1.0              0.0   \n",
       "5441               0        -0.576279                0.0              0.0   \n",
       "9001               1         0.662068                0.0              1.0   \n",
       "\n",
       "      Gender_Male  \n",
       "7445          0.0  \n",
       "8620          0.0  \n",
       "1714          1.0  \n",
       "5441          1.0  \n",
       "9001          1.0  "
      ]
     },
     "metadata": {},
     "output_type": "display_data"
    },
    {
     "data": {
      "text/html": [
       "<div>\n",
       "<style scoped>\n",
       "    .dataframe tbody tr th:only-of-type {\n",
       "        vertical-align: middle;\n",
       "    }\n",
       "\n",
       "    .dataframe tbody tr th {\n",
       "        vertical-align: top;\n",
       "    }\n",
       "\n",
       "    .dataframe thead th {\n",
       "        text-align: right;\n",
       "    }\n",
       "</style>\n",
       "<table border=\"1\" class=\"dataframe\">\n",
       "  <thead>\n",
       "    <tr style=\"text-align: right;\">\n",
       "      <th></th>\n",
       "      <th>CreditScore</th>\n",
       "      <th>Age</th>\n",
       "      <th>Tenure</th>\n",
       "      <th>Balance</th>\n",
       "      <th>NumOfProducts</th>\n",
       "      <th>HasCrCard</th>\n",
       "      <th>IsActiveMember</th>\n",
       "      <th>EstimatedSalary</th>\n",
       "      <th>Geography_Germany</th>\n",
       "      <th>Geography_Spain</th>\n",
       "      <th>Gender_Male</th>\n",
       "    </tr>\n",
       "  </thead>\n",
       "  <tbody>\n",
       "    <tr>\n",
       "      <th>5170</th>\n",
       "      <td>1.707279</td>\n",
       "      <td>-0.756975</td>\n",
       "      <td>-0.336987</td>\n",
       "      <td>-1.237830</td>\n",
       "      <td>0.809300</td>\n",
       "      <td>1</td>\n",
       "      <td>1</td>\n",
       "      <td>0.718362</td>\n",
       "      <td>0.0</td>\n",
       "      <td>0.0</td>\n",
       "      <td>0.0</td>\n",
       "    </tr>\n",
       "    <tr>\n",
       "      <th>4180</th>\n",
       "      <td>-0.429826</td>\n",
       "      <td>-0.286389</td>\n",
       "      <td>1.730036</td>\n",
       "      <td>0.485538</td>\n",
       "      <td>0.809300</td>\n",
       "      <td>0</td>\n",
       "      <td>0</td>\n",
       "      <td>1.687305</td>\n",
       "      <td>1.0</td>\n",
       "      <td>0.0</td>\n",
       "      <td>1.0</td>\n",
       "    </tr>\n",
       "    <tr>\n",
       "      <th>7349</th>\n",
       "      <td>-0.171721</td>\n",
       "      <td>0.278313</td>\n",
       "      <td>0.352020</td>\n",
       "      <td>-0.269213</td>\n",
       "      <td>0.809300</td>\n",
       "      <td>0</td>\n",
       "      <td>1</td>\n",
       "      <td>0.824128</td>\n",
       "      <td>1.0</td>\n",
       "      <td>0.0</td>\n",
       "      <td>1.0</td>\n",
       "    </tr>\n",
       "    <tr>\n",
       "      <th>7469</th>\n",
       "      <td>0.385784</td>\n",
       "      <td>-0.380507</td>\n",
       "      <td>1.041028</td>\n",
       "      <td>0.464813</td>\n",
       "      <td>-0.908179</td>\n",
       "      <td>1</td>\n",
       "      <td>0</td>\n",
       "      <td>-1.118018</td>\n",
       "      <td>0.0</td>\n",
       "      <td>0.0</td>\n",
       "      <td>0.0</td>\n",
       "    </tr>\n",
       "    <tr>\n",
       "      <th>3467</th>\n",
       "      <td>-1.142194</td>\n",
       "      <td>0.278313</td>\n",
       "      <td>-1.370498</td>\n",
       "      <td>0.353837</td>\n",
       "      <td>0.809300</td>\n",
       "      <td>0</td>\n",
       "      <td>1</td>\n",
       "      <td>-0.107642</td>\n",
       "      <td>1.0</td>\n",
       "      <td>0.0</td>\n",
       "      <td>0.0</td>\n",
       "    </tr>\n",
       "  </tbody>\n",
       "</table>\n",
       "</div>"
      ],
      "text/plain": [
       "      CreditScore       Age    Tenure   Balance  NumOfProducts  HasCrCard  \\\n",
       "5170     1.707279 -0.756975 -0.336987 -1.237830       0.809300          1   \n",
       "4180    -0.429826 -0.286389  1.730036  0.485538       0.809300          0   \n",
       "7349    -0.171721  0.278313  0.352020 -0.269213       0.809300          0   \n",
       "7469     0.385784 -0.380507  1.041028  0.464813      -0.908179          1   \n",
       "3467    -1.142194  0.278313 -1.370498  0.353837       0.809300          0   \n",
       "\n",
       "      IsActiveMember  EstimatedSalary  Geography_Germany  Geography_Spain  \\\n",
       "5170               1         0.718362                0.0              0.0   \n",
       "4180               0         1.687305                1.0              0.0   \n",
       "7349               1         0.824128                1.0              0.0   \n",
       "7469               0        -1.118018                0.0              0.0   \n",
       "3467               1        -0.107642                1.0              0.0   \n",
       "\n",
       "      Gender_Male  \n",
       "5170          0.0  \n",
       "4180          1.0  \n",
       "7349          1.0  \n",
       "7469          0.0  \n",
       "3467          0.0  "
      ]
     },
     "execution_count": 22,
     "metadata": {},
     "output_type": "execute_result"
    }
   ],
   "source": [
    "# Посмотрим первые строки выборок после преобразований\n",
    "display (features_train_ohe_scaled.head())\n",
    "display (features_valid_ohe_scaled.head())\n",
    "features_test_ohe_scaled.head()"
   ]
  },
  {
   "cell_type": "markdown",
   "metadata": {},
   "source": [
    "Выводы по этапу подготовки данных:\n",
    "- рассмотрены данные, представленные в датасете,\n",
    "- удалены пропуски, которые восстановить достоверно невозможно,\n",
    "- удалены признаки, не представляющие интерес с точки зрения целевого признака,\n",
    "- подготовлены обучающая, валидационная и тестовая выборки,\n",
    "- выполнено прямое кодирование категориальных признаков,\n",
    "- выполнено масштабирование числовых признаков."
   ]
  },
  {
   "cell_type": "markdown",
   "metadata": {},
   "source": [
    "## Исследование задачи"
   ]
  },
  {
   "cell_type": "markdown",
   "metadata": {},
   "source": [
    "### Баланс классов"
   ]
  },
  {
   "cell_type": "code",
   "execution_count": 23,
   "metadata": {
    "ExecuteTime": {
     "end_time": "2023-05-11T16:11:07.227323Z",
     "start_time": "2023-05-11T16:11:07.215344Z"
    }
   },
   "outputs": [
    {
     "data": {
      "text/plain": [
       "0.2039379606203938"
      ]
     },
     "execution_count": 23,
     "metadata": {},
     "output_type": "execute_result"
    }
   ],
   "source": [
    "# Баланс классов в исходном датасете (среднее значение целевого признака покажет долю положительного класса)\n",
    "df['Exited'].mean()"
   ]
  },
  {
   "cell_type": "code",
   "execution_count": 24,
   "metadata": {
    "ExecuteTime": {
     "end_time": "2023-05-11T16:11:07.258588Z",
     "start_time": "2023-05-11T16:11:07.233296Z"
    }
   },
   "outputs": [
    {
     "name": "stdout",
     "output_type": "stream",
     "text": [
      "обучающая 0.206,\n",
      "валидационная 0.207,\n",
      "тестовая 0.193,\n"
     ]
    }
   ],
   "source": [
    "# Баланс классов в выборках\n",
    "print('обучающая ', round(target_train.mean(), 3), ',', sep='')\n",
    "print('валидационная ', round(target_valid.mean(), 3), ',', sep='')\n",
    "print('тестовая ', round(target_test.mean(), 3), ',', sep='')"
   ]
  },
  {
   "cell_type": "markdown",
   "metadata": {},
   "source": [
    "Как видим, в  выборке имеется дисбаланс классов: представителей положительного класса ~20%.При этом баланс при создании выборок не был значительно нарушен. Изучим модели классификации без учёта небаланса."
   ]
  },
  {
   "cell_type": "markdown",
   "metadata": {},
   "source": [
    "### Модель логистической регрессии"
   ]
  },
  {
   "cell_type": "code",
   "execution_count": 25,
   "metadata": {
    "ExecuteTime": {
     "end_time": "2023-05-11T16:11:07.368304Z",
     "start_time": "2023-05-11T16:11:07.262586Z"
    }
   },
   "outputs": [
    {
     "name": "stdout",
     "output_type": "stream",
     "text": [
      "F1-мера: 0.304\n",
      "Площадь под ROC-кривой: 0.774\n"
     ]
    }
   ],
   "source": [
    "# Обучим модель логистической регресии и проверим значение F1-меры на валидационной выборке\n",
    "model = LogisticRegression(random_state=RANDOM_STATE, solver='liblinear')\n",
    "model.fit(features_train_ohe_scaled, target_train)\n",
    "predicted_logreg_valid = model.predict(features_valid_ohe_scaled)\n",
    "print('F1-мера:', round(f1_score(target_valid, predicted_logreg_valid), 3))\n",
    "probabilities_logreg_valid = model.predict_proba(features_valid_ohe_scaled)\n",
    "probabilities_one_valid = probabilities_logreg_valid[:, 1]\n",
    "print('Площадь под ROC-кривой:', round(roc_auc_score(target_valid, probabilities_one_valid), 3))"
   ]
  },
  {
   "cell_type": "markdown",
   "metadata": {},
   "source": [
    "### Модель на основе решающего дерева"
   ]
  },
  {
   "cell_type": "markdown",
   "metadata": {},
   "source": [
    "Для выбора наилучшей модели рассчитаем метрики качества модели при разных значениях максимальной глубины дерева в диапазоне от 2 до 10"
   ]
  },
  {
   "cell_type": "code",
   "execution_count": 26,
   "metadata": {
    "ExecuteTime": {
     "end_time": "2023-05-11T16:11:07.822778Z",
     "start_time": "2023-05-11T16:11:07.373297Z"
    }
   },
   "outputs": [
    {
     "name": "stdout",
     "output_type": "stream",
     "text": [
      "F1-мера наилучшей модели на основе дерева на валидационной выборке: 0.561\n",
      "AUC ROC наилучшей модели на основе дерева на валидационной выборке: 0.85\n",
      "Параметр max_depth у наилучшей модели 6\n"
     ]
    }
   ],
   "source": [
    "best_model_tree = None\n",
    "best_f1_tree = 0\n",
    "best_auc_roc_tree = 0\n",
    "best_max_depth_tree = 0\n",
    "for depth in range(2, 11):\n",
    "    model = DecisionTreeClassifier(random_state=RANDOM_STATE, max_depth=depth)\n",
    "    model.fit(features_train_ohe_scaled, target_train) # обучим модель на обучающей выборке\n",
    "    predicted_tree_valid = model.predict(features_valid_ohe_scaled)\n",
    "    result_f1 = f1_score(target_valid, predicted_tree_valid) # посчитаем качество модели на валидационной выборке\n",
    "    probabilities_tree_valid = model.predict_proba(features_valid_ohe_scaled)\n",
    "    probabilities_one_valid = probabilities_tree_valid[:, 1]\n",
    "    result_auc_roc = roc_auc_score(target_valid, probabilities_one_valid)\n",
    "    # print('F1:', round(result_f1, 3), 'AUC-ROC:', round(result_auc_roc, 3))\n",
    "    if result_f1 > best_f1_tree and result_auc_roc > best_auc_roc_tree:\n",
    "        best_model_tree = model # сохраним наилучшую модель\n",
    "        best_f1_tree = result_f1 #  сохраним наилучшее значение f1 меры на валидационных данных\n",
    "        best_auc_roc_tree = result_auc_roc #  сохраним наилучшее значение auc roc на валидационных данных\n",
    "        best_max_depth_tree = depth\n",
    "print(\"F1-мера наилучшей модели на основе дерева на валидационной выборке:\", round(best_f1_tree, 3))\n",
    "print(\"AUC ROC наилучшей модели на основе дерева на валидационной выборке:\", round(best_auc_roc_tree, 3))\n",
    "print(\"Параметр max_depth у наилучшей модели\", best_max_depth_tree)"
   ]
  },
  {
   "cell_type": "markdown",
   "metadata": {},
   "source": [
    "### Модель на основе случайного леса"
   ]
  },
  {
   "cell_type": "markdown",
   "metadata": {},
   "source": [
    "Для выбора наилучшей модели рассчитаем качество модели при разных значениях максимальной глубины дерева в диапазоне от 2 до 10 и количества деревьев в диапазоне от 5 до 100 c шагом 5"
   ]
  },
  {
   "cell_type": "code",
   "execution_count": 27,
   "metadata": {
    "ExecuteTime": {
     "end_time": "2023-05-11T16:12:45.691966Z",
     "start_time": "2023-05-11T16:11:07.827718Z"
    }
   },
   "outputs": [
    {
     "name": "stdout",
     "output_type": "stream",
     "text": [
      "F1-мера наилучшей модели на основе случайного леса на валидационной выборке: 0.569\n",
      "AUC ROC наилучшей модели на основе случайного леса на валидационной выборке: 0.872\n",
      "Параметр max_depth у наилучшей модели 8\n",
      "Параметр n_estimators у наилучшей модели 35\n"
     ]
    }
   ],
   "source": [
    "best_model_forest = None\n",
    "best_f1_forest = 0\n",
    "best_auc_roc_forest = 0\n",
    "best_max_depth_forest = 0\n",
    "best_n_estimators_forest = 0\n",
    "for est in range(5, 101, 5):\n",
    "    # print('estimators =', est)\n",
    "    for depth in range(2, 11):\n",
    "        model = RandomForestClassifier(random_state=RANDOM_STATE, n_estimators=est, max_depth=depth)\n",
    "        model.fit(features_train_ohe_scaled, target_train) # обучим модель на обучающей выборке\n",
    "        predicted_forest_valid = model.predict(features_valid_ohe_scaled)\n",
    "        result_f1 = f1_score(target_valid, predicted_forest_valid) # посчитаем качество модели на валидационной выборке\n",
    "        probabilities_forest_valid = model.predict_proba(features_valid_ohe_scaled)\n",
    "        probabilities_one_valid = probabilities_forest_valid[:, 1]\n",
    "        result_auc_roc = roc_auc_score(target_valid, probabilities_one_valid)\n",
    "        # print('F1:', round(result_f1, 3), 'AUC-ROC:', round(result_auc_roc, 3))\n",
    "        if result_f1 > best_f1_forest and result_auc_roc > best_auc_roc_forest:\n",
    "            best_model_forest = model # сохраним наилучшую модель\n",
    "            best_f1_forest = result_f1 #  сохраним наилучшее значение f1 меры на валидационных данных\n",
    "            best_auc_roc_forest = result_auc_roc #  сохраним наилучшее значение auc roc на валидационных данных\n",
    "            best_max_depth_forest = depth\n",
    "            best_n_estimators_forest = est\n",
    "print(\"F1-мера наилучшей модели на основе случайного леса на валидационной выборке:\", round(best_f1_forest, 3))\n",
    "print(\"AUC ROC наилучшей модели на основе случайного леса на валидационной выборке:\", round(best_auc_roc_forest, 3))\n",
    "print(\"Параметр max_depth у наилучшей модели\", best_max_depth_forest)\n",
    "print(\"Параметр n_estimators у наилучшей модели\", best_n_estimators_forest)"
   ]
  },
  {
   "cell_type": "markdown",
   "metadata": {},
   "source": [
    "Результаты и гиперпараметры различных моделей без учёта баланса классов:\n",
    "- модель линейной регрессии - f1-мера 0,304, площадь под ROC кривой 0,774,\n",
    "- модель решающего дерева f1-мера 0,561, площадь под ROC кривой 0,85 (максимальная глубина 6),\n",
    "- модель случайного леса f1-мера 0,569, площадь под ROC кривой 0,872 (число деревьев 35, максимальная глубина 8).\n",
    "\n",
    "Ни одна из применённых моделей не позволила добиться требуемого значения целевой метрики качества.\n",
    "Наихудшие показатели у модели на основе линейной регрессии, наилучшие - у модели на основе случайного леса.\n",
    "Примем меры по борьбе с дисбалансом классов."
   ]
  },
  {
   "cell_type": "markdown",
   "metadata": {},
   "source": [
    "## Борьба с дисбалансом"
   ]
  },
  {
   "cell_type": "markdown",
   "metadata": {},
   "source": [
    "### Взвешивание классов"
   ]
  },
  {
   "cell_type": "code",
   "execution_count": 28,
   "metadata": {
    "ExecuteTime": {
     "end_time": "2023-05-11T16:12:45.832553Z",
     "start_time": "2023-05-11T16:12:45.715901Z"
    }
   },
   "outputs": [
    {
     "name": "stdout",
     "output_type": "stream",
     "text": [
      "F1-мера: 0.51\n",
      "Площадь под ROC-кривой: 0.757\n"
     ]
    }
   ],
   "source": [
    "# Обучим модель логистической регресии со взвешиванием классов и проверим качество на валидационной выборке\n",
    "model = LogisticRegression(random_state=RANDOM_STATE, solver='liblinear', class_weight='balanced')\n",
    "model.fit(features_train_ohe_scaled, target_train)\n",
    "predicted_logreg_valid = model.predict(features_valid_ohe_scaled)\n",
    "print('F1-мера:', round(f1_score(target_valid, predicted_logreg_valid), 3))\n",
    "probabilities_logreg_valid = model.predict_proba(features_valid_ohe_scaled)\n",
    "probabilities_one_valid = probabilities_tree_valid[:, 1]\n",
    "print('Площадь под ROC-кривой:', round(roc_auc_score(target_valid, probabilities_one_valid), 3))"
   ]
  },
  {
   "cell_type": "code",
   "execution_count": 29,
   "metadata": {
    "ExecuteTime": {
     "end_time": "2023-05-11T16:12:46.450899Z",
     "start_time": "2023-05-11T16:12:45.840532Z"
    }
   },
   "outputs": [
    {
     "name": "stdout",
     "output_type": "stream",
     "text": [
      "F1-мера наилучшей модели на основе дерева на валидационной выборке: 0.574\n",
      "AUC ROC наилучшей модели на основе дерева на валидационной выборке: 0.84\n",
      "Параметр max_depth у наилучшей модели 5\n"
     ]
    }
   ],
   "source": [
    "# Перебирая параметр максимальной глубины, выберем модель на основе решающего дерева со\n",
    "# взвешиванием классов, обеспечивающую максимальные показатели качества на валидационной выборке\n",
    "best_model_tree = None\n",
    "best_f1_tree = 0\n",
    "best_auc_roc_tree = 0\n",
    "best_max_depth_tree = 0\n",
    "for depth in range(2, 11):\n",
    "    model = DecisionTreeClassifier(random_state=RANDOM_STATE, max_depth=depth, class_weight='balanced')\n",
    "    model.fit(features_train_ohe_scaled, target_train) # обучим модель на обучающей выборке\n",
    "    predicted_tree_valid = model.predict(features_valid_ohe_scaled)\n",
    "    result_f1 = f1_score(target_valid, predicted_tree_valid) # посчитаем качество модели на валидационной выборке\n",
    "    probabilities_tree_valid = model.predict_proba(features_valid_ohe_scaled)\n",
    "    probabilities_one_valid = probabilities_tree_valid[:, 1]\n",
    "    result_auc_roc = roc_auc_score(target_valid, probabilities_one_valid)\n",
    "    # print('F1:', round(result_f1, 3), 'AUC-ROC:', round(result_auc_roc, 3))\n",
    "    if result_f1 > best_f1_tree and result_auc_roc > best_auc_roc_tree:\n",
    "        best_model_tree = model # сохраним наилучшую модель\n",
    "        best_f1_tree = result_f1 #  сохраним наилучшее значение f1 меры на валидационных данных\n",
    "        best_auc_roc_tree = result_auc_roc #  сохраним наилучшее значение auc roc на валидационных данных\n",
    "        best_max_depth_tree = depth\n",
    "print(\"F1-мера наилучшей модели на основе дерева на валидационной выборке:\", round(best_f1_tree, 3))\n",
    "print(\"AUC ROC наилучшей модели на основе дерева на валидационной выборке:\", round(best_auc_roc_tree, 3))\n",
    "print(\"Параметр max_depth у наилучшей модели\", best_max_depth_tree)"
   ]
  },
  {
   "cell_type": "code",
   "execution_count": 30,
   "metadata": {
    "ExecuteTime": {
     "end_time": "2023-05-11T16:14:28.528882Z",
     "start_time": "2023-05-11T16:12:46.457887Z"
    }
   },
   "outputs": [
    {
     "name": "stdout",
     "output_type": "stream",
     "text": [
      "F1-мера наилучшей модели на основе случайного леса на валидационной выборке: 0.644\n",
      "AUC ROC наилучшей модели на основе случайного леса на валидационной выборке: 0.869\n",
      "Параметр max_depth у наилучшей модели 9\n",
      "Параметр n_estimators у наилучшей модели 30\n"
     ]
    }
   ],
   "source": [
    "# Перебирая параметры количества деревьев и максимальной глубины, выберем модель на основе случайного леса\n",
    "# со взвешиванием классов, обеспечивающую максимальные показатели качества на валидационной выборке\n",
    "best_model_forest = None\n",
    "best_f1_forest = 0\n",
    "best_auc_roc_forest = 0\n",
    "best_max_depth_forest = 0\n",
    "best_n_estimators_forest = 0\n",
    "for est in range(5, 101, 5):\n",
    "    # print('estimators =', est)\n",
    "    for depth in range(2, 11):\n",
    "        model = RandomForestClassifier(random_state=RANDOM_STATE, n_estimators=est,\n",
    "                                       max_depth=depth, class_weight='balanced')\n",
    "        model.fit(features_train_ohe_scaled, target_train) # обучим модель на обучающей выборке\n",
    "        predicted_forest_valid = model.predict(features_valid_ohe_scaled)\n",
    "        result_f1 = f1_score(target_valid, predicted_forest_valid) # посчитаем качество модели на валидационной выборке\n",
    "        probabilities_forest_valid = model.predict_proba(features_valid_ohe_scaled)\n",
    "        probabilities_one_valid = probabilities_forest_valid[:, 1]\n",
    "        result_auc_roc = roc_auc_score(target_valid, probabilities_one_valid)\n",
    "        # print('F1:', round(result_f1, 3), 'AUC-ROC:', round(result_auc_roc, 3))\n",
    "        if result_f1 > best_f1_forest and result_auc_roc > best_auc_roc_forest:\n",
    "            best_model_forest = model # сохраним наилучшую модель\n",
    "            best_f1_forest = result_f1 #  сохраним наилучшее значение f1 меры на валидационных данных\n",
    "            best_auc_roc_forest = result_auc_roc #  сохраним наилучшее значение auc roc на валидационных данных\n",
    "            best_max_depth_forest = depth\n",
    "            best_n_estimators_forest = est\n",
    "print(\"F1-мера наилучшей модели на основе случайного леса на валидационной выборке:\", round(best_f1_forest, 3))\n",
    "print(\"AUC ROC наилучшей модели на основе случайного леса на валидационной выборке:\", round(best_auc_roc_forest, 3))\n",
    "print(\"Параметр max_depth у наилучшей модели\", best_max_depth_forest)\n",
    "print(\"Параметр n_estimators у наилучшей модели\", best_n_estimators_forest)"
   ]
  },
  {
   "cell_type": "markdown",
   "metadata": {},
   "source": [
    "Результаты и гиперпараметры различных моделей при использовании взвешивания классов:\n",
    "- модель линейной регрессии - F1-мера 0,51, площадь под ROC кривой 0,757,\n",
    "- модель решающего дерева F1-мера 0,574, площадь под ROC кривой 0,84 (максимальная глубина 5),\n",
    "- модель случайного леса F1-мера 0,644, площадь под ROC кривой 0,869 (число деревьев 30, максимальная глубина 9).\n",
    "\n",
    "Видим заметный рост качества у модели логистической регрессии и модели на основе случайного леса, а также незначительное улучшение у модели на основе решающего дерева. При этом снова модель на основе случайного леса позволила добиться требуемого значения целевой метрики качества.\n",
    "Наихудшие показатели снова у модели на основе линейной регрессии, наилучшие - у модели на основе случайного леса.\n",
    "Исследуем модели с применением других мер по борьбе с дисбалансом классов."
   ]
  },
  {
   "cell_type": "markdown",
   "metadata": {},
   "source": [
    "### Увеличение выборки"
   ]
  },
  {
   "cell_type": "code",
   "execution_count": 31,
   "metadata": {
    "ExecuteTime": {
     "end_time": "2023-05-11T16:14:28.560798Z",
     "start_time": "2023-05-11T16:14:28.533819Z"
    }
   },
   "outputs": [],
   "source": [
    "# Определим функцию, добавляющую в обучающую выборку объекты положительного класса и перемешивающую выборку\n",
    "def upsample(features, target, repeat):\n",
    "    features_zeros = features[target == 0]\n",
    "    features_ones = features[target == 1]\n",
    "    target_zeros = target[target == 0]\n",
    "    target_ones = target[target == 1]\n",
    "\n",
    "    features_upsampled = pd.concat([features_zeros] + [features_ones] * repeat)\n",
    "    target_upsampled = pd.concat([target_zeros] + [target_ones] * repeat)\n",
    "    \n",
    "    features_upsampled, target_upsampled = shuffle(\n",
    "        features_upsampled, target_upsampled, random_state=RANDOM_STATE)\n",
    "    \n",
    "    return features_upsampled, target_upsampled"
   ]
  },
  {
   "cell_type": "code",
   "execution_count": 32,
   "metadata": {
    "ExecuteTime": {
     "end_time": "2023-05-11T16:14:28.608023Z",
     "start_time": "2023-05-11T16:14:28.567728Z"
    }
   },
   "outputs": [],
   "source": [
    "# Добавим в обучающую выборку объектов положительного класса в количестве, обеспечивающем баланс классов\n",
    "features_upsampled, target_upsampled = upsample(features_train_ohe_scaled, target_train, 4)"
   ]
  },
  {
   "cell_type": "code",
   "execution_count": 33,
   "metadata": {
    "ExecuteTime": {
     "end_time": "2023-05-11T16:14:28.703305Z",
     "start_time": "2023-05-11T16:14:28.614548Z"
    }
   },
   "outputs": [
    {
     "name": "stdout",
     "output_type": "stream",
     "text": [
      "F1-мера: 0.509\n",
      "Площадь под ROC-кривой: 0.73\n"
     ]
    }
   ],
   "source": [
    "# Обучим модель логистической регресии на расширенной выборке и проверим качество на валидационной выборке\n",
    "model = LogisticRegression(random_state=RANDOM_STATE, solver='liblinear')\n",
    "model.fit(features_upsampled, target_upsampled)\n",
    "predicted_logreg_valid = model.predict(features_valid_ohe_scaled)\n",
    "print('F1-мера:', round(f1_score(target_valid, predicted_logreg_valid), 3))\n",
    "probabilities_logreg_valid = model.predict_proba(features_valid_ohe_scaled)\n",
    "probabilities_one_valid = probabilities_tree_valid[:, 1]\n",
    "print('Площадь под ROC-кривой:', round(roc_auc_score(target_valid, probabilities_one_valid), 3))"
   ]
  },
  {
   "cell_type": "code",
   "execution_count": 34,
   "metadata": {
    "ExecuteTime": {
     "end_time": "2023-05-11T16:14:29.271788Z",
     "start_time": "2023-05-11T16:14:28.708293Z"
    }
   },
   "outputs": [
    {
     "name": "stdout",
     "output_type": "stream",
     "text": [
      "F1-мера наилучшей модели на основе дерева на валидационной выборке: 0.574\n",
      "AUC ROC наилучшей модели на основе дерева на валидационной выборке: 0.84\n",
      "Параметр max_depth у наилучшей модели 5\n"
     ]
    }
   ],
   "source": [
    "# Перебирая параметр максимальной глубины, выберем модель на основе решающего дерева (обучая на расширенной выборке),\n",
    "# обеспечивающую максимальные показатели качества на валидационной выборке\n",
    "best_model_tree = None\n",
    "best_f1_tree = 0\n",
    "best_auc_roc_tree = 0\n",
    "best_max_depth_tree = 0\n",
    "for depth in range(2, 11):\n",
    "    model = DecisionTreeClassifier(random_state=RANDOM_STATE, max_depth=depth)\n",
    "    model.fit(features_upsampled, target_upsampled) # обучим модель на расширенной выборке\n",
    "    predicted_tree_valid = model.predict(features_valid_ohe_scaled)\n",
    "    result_f1 = f1_score(target_valid, predicted_tree_valid) # посчитаем качество модели на валидационной выборке\n",
    "    probabilities_tree_valid = model.predict_proba(features_valid_ohe_scaled)\n",
    "    probabilities_one_valid = probabilities_tree_valid[:, 1]\n",
    "    result_auc_roc = roc_auc_score(target_valid, probabilities_one_valid)\n",
    "    # print('F1:', round(result_f1, 3), 'AUC-ROC:', round(result_auc_roc, 3))\n",
    "    if result_f1 > best_f1_tree and result_auc_roc > best_auc_roc_tree:\n",
    "        best_model_tree = model # сохраним наилучшую модель\n",
    "        best_f1_tree = result_f1 #  сохраним наилучшее значение f1 меры на валидационных данных\n",
    "        best_auc_roc_tree = result_auc_roc #  сохраним наилучшее значение auc roc на валидационных данных\n",
    "        best_max_depth_tree = depth\n",
    "print(\"F1-мера наилучшей модели на основе дерева на валидационной выборке:\", round(best_f1_tree, 3))\n",
    "print(\"AUC ROC наилучшей модели на основе дерева на валидационной выборке:\", round(best_auc_roc_tree, 3))\n",
    "print(\"Параметр max_depth у наилучшей модели\", best_max_depth_tree)"
   ]
  },
  {
   "cell_type": "code",
   "execution_count": 35,
   "metadata": {
    "ExecuteTime": {
     "end_time": "2023-05-11T16:16:39.275315Z",
     "start_time": "2023-05-11T16:14:29.276771Z"
    }
   },
   "outputs": [
    {
     "name": "stdout",
     "output_type": "stream",
     "text": [
      "F1-мера наилучшей модели на основе случайного леса на валидационной выборке: 0.63\n",
      "AUC ROC наилучшей модели на основе случайного леса на валидационной выборке: 0.869\n",
      "Параметр max_depth у наилучшей модели 9\n",
      "Параметр n_estimators у наилучшей модели 85\n"
     ]
    }
   ],
   "source": [
    "# Перебирая параметры количества деревьев и максимальной глубины, выберем модель на основе случайного леса\n",
    "# (обучая на расширенной выборке), обеспечивающую максимальные показатели качества на валидационной выборке\n",
    "best_model_forest = None\n",
    "best_f1_forest = 0\n",
    "best_auc_roc_forest = 0\n",
    "best_max_depth_forest = 0\n",
    "best_n_estimators_forest = 0\n",
    "for est in range(5, 101, 5):\n",
    "    # print('estimators =', est)\n",
    "    for depth in range(2, 11):\n",
    "        model = RandomForestClassifier(random_state=RANDOM_STATE, n_estimators=est, max_depth=depth)\n",
    "        model.fit(features_upsampled, target_upsampled) # обучим модель на расширенной выбоке\n",
    "        predicted_forest_valid = model.predict(features_valid_ohe_scaled)\n",
    "        result_f1 = f1_score(target_valid, predicted_forest_valid) # посчитаем качество модели на валидационной выборке\n",
    "        probabilities_forest_valid = model.predict_proba(features_valid_ohe_scaled)\n",
    "        probabilities_one_valid = probabilities_forest_valid[:, 1]\n",
    "        result_auc_roc = roc_auc_score(target_valid, probabilities_one_valid)\n",
    "        # print('F1:', round(result_f1, 3), 'AUC-ROC:', round(result_auc_roc, 3))\n",
    "        if result_f1 > best_f1_forest and result_auc_roc > best_auc_roc_forest:\n",
    "            best_model_forest = model # сохраним наилучшую модель\n",
    "            best_f1_forest = result_f1 #  сохраним наилучшее значение f1 меры на валидационных данных\n",
    "            best_auc_roc_forest = result_auc_roc #  сохраним наилучшее значение auc roc на валидационных данных\n",
    "            best_max_depth_forest = depth\n",
    "            best_n_estimators_forest = est\n",
    "print(\"F1-мера наилучшей модели на основе случайного леса на валидационной выборке:\", round(best_f1_forest, 3))\n",
    "print(\"AUC ROC наилучшей модели на основе случайного леса на валидационной выборке:\", round(best_auc_roc_forest, 3))\n",
    "print(\"Параметр max_depth у наилучшей модели\", best_max_depth_forest)\n",
    "print(\"Параметр n_estimators у наилучшей модели\", best_n_estimators_forest)"
   ]
  },
  {
   "cell_type": "markdown",
   "metadata": {},
   "source": [
    "Результаты и гиперпараметры различных моделей при обучении на расширенной выборке:\n",
    "- модель линейной регрессии - F1-мера 0,509, площадь под ROC кривой 0,73,\n",
    "- модель решающего дерева F1-мера 0,574, площадь под ROC кривой 0,84 (максимальная глубина 5),\n",
    "- модель случайного леса F1-мера 0,63, площадь под ROC кривой 0,869 (число деревьев 85, максимальная глубина 9).\n",
    "\n",
    "По метрикам качества результаты изменились в худшую сторону у всех моделей, кроме модели на основе решающего дерева, у которой результат не изменился. При этом у модели на основе случайного леса для достижения наилучшего результата пришлось использовать значительно большее количество деревьев. Учитывая вышеизложенное, на данном этапе наиболее эффективным решением считаем взвешивание классов."
   ]
  },
  {
   "cell_type": "markdown",
   "metadata": {},
   "source": [
    "### Уменьшение выборки"
   ]
  },
  {
   "cell_type": "code",
   "execution_count": 36,
   "metadata": {
    "ExecuteTime": {
     "end_time": "2023-05-11T16:16:39.307228Z",
     "start_time": "2023-05-11T16:16:39.281301Z"
    }
   },
   "outputs": [],
   "source": [
    "# Определим функцию, убирающую из обучающей выборки объекты отрицательного класса и перемешивающую выборку\n",
    "def downsample(features, target, fraction):\n",
    "    features_zeros = features[target == 0]\n",
    "    features_ones = features[target == 1]\n",
    "    target_zeros = target[target == 0]\n",
    "    target_ones = target[target == 1]\n",
    "\n",
    "    features_downsampled = pd.concat(\n",
    "        [features_zeros.sample(frac=fraction, random_state=RANDOM_STATE)] + [features_ones])\n",
    "    target_downsampled = pd.concat(\n",
    "        [target_zeros.sample(frac=fraction, random_state=RANDOM_STATE)] + [target_ones])\n",
    "    \n",
    "    features_downsampled, target_downsampled = shuffle(\n",
    "        features_downsampled, target_downsampled, random_state=12345)\n",
    "    \n",
    "    return features_downsampled, target_downsampled"
   ]
  },
  {
   "cell_type": "code",
   "execution_count": 37,
   "metadata": {
    "ExecuteTime": {
     "end_time": "2023-05-11T16:16:39.354822Z",
     "start_time": "2023-05-11T16:16:39.314214Z"
    }
   },
   "outputs": [],
   "source": [
    "# Уберём из обучающей выборки объекты отрицательного класса в количестве, обеспечивающем баланс классов\n",
    "features_downsampled, target_downsampled = downsample(features_train_ohe_scaled, target_train, 0.25)"
   ]
  },
  {
   "cell_type": "code",
   "execution_count": 38,
   "metadata": {
    "ExecuteTime": {
     "end_time": "2023-05-11T16:16:39.418701Z",
     "start_time": "2023-05-11T16:16:39.359804Z"
    }
   },
   "outputs": [
    {
     "name": "stdout",
     "output_type": "stream",
     "text": [
      "F1-мера: 0.504\n",
      "Площадь под ROC-кривой: 0.73\n"
     ]
    }
   ],
   "source": [
    "# Обучим модель логистической регресии на уменьшенной выборке и проверим качество на валидационной выборке\n",
    "model = LogisticRegression(random_state=RANDOM_STATE, solver='liblinear')\n",
    "model.fit(features_downsampled, target_downsampled)\n",
    "predicted_logreg_valid = model.predict(features_valid_ohe_scaled)\n",
    "print('F1-мера:', round(f1_score(target_valid, predicted_logreg_valid), 3))\n",
    "probabilities_logreg_valid = model.predict_proba(features_valid_ohe_scaled)\n",
    "probabilities_one_valid = probabilities_tree_valid[:, 1]\n",
    "print('Площадь под ROC-кривой:', round(roc_auc_score(target_valid, probabilities_one_valid), 3))"
   ]
  },
  {
   "cell_type": "code",
   "execution_count": 39,
   "metadata": {
    "ExecuteTime": {
     "end_time": "2023-05-11T16:16:39.848443Z",
     "start_time": "2023-05-11T16:16:39.425632Z"
    }
   },
   "outputs": [
    {
     "name": "stdout",
     "output_type": "stream",
     "text": [
      "F1-мера наилучшей модели на основе дерева на валидационной выборке: 0.564\n",
      "AUC ROC наилучшей модели на основе дерева на валидационной выборке: 0.834\n",
      "Параметр max_depth у наилучшей модели 6\n"
     ]
    }
   ],
   "source": [
    "# Перебирая параметр максимальной глубины, выберем модель на основе решающего дерева (обучая на уменьшенной выборке),\n",
    "# обеспечивающую максимальные показатели качества на валидационной выборке\n",
    "best_model_tree = None\n",
    "best_f1_tree = 0\n",
    "best_auc_roc_tree = 0\n",
    "best_max_depth_tree = 0\n",
    "for depth in range(2, 11):\n",
    "    model = DecisionTreeClassifier(random_state=RANDOM_STATE, max_depth=depth)\n",
    "    model.fit(features_downsampled, target_downsampled) # обучим модель на уменьшенной выборке\n",
    "    predicted_tree_valid = model.predict(features_valid_ohe_scaled)\n",
    "    result_f1 = f1_score(target_valid, predicted_tree_valid) # посчитаем качество модели на валидационной выборке\n",
    "    probabilities_tree_valid = model.predict_proba(features_valid_ohe_scaled)\n",
    "    probabilities_one_valid = probabilities_tree_valid[:, 1]\n",
    "    result_auc_roc = roc_auc_score(target_valid, probabilities_one_valid)\n",
    "    # print('F1:', round(result_f1, 3), 'AUC-ROC:', round(result_auc_roc, 3))\n",
    "    if result_f1 > best_f1_tree and result_auc_roc > best_auc_roc_tree:\n",
    "        best_model_tree = model # сохраним наилучшую модель\n",
    "        best_f1_tree = result_f1 #  сохраним наилучшее значение f1 меры на валидационных данных\n",
    "        best_auc_roc_tree = result_auc_roc #  сохраним наилучшее значение auc roc на валидационных данных\n",
    "        best_max_depth_tree = depth\n",
    "print(\"F1-мера наилучшей модели на основе дерева на валидационной выборке:\", round(best_f1_tree, 3))\n",
    "print(\"AUC ROC наилучшей модели на основе дерева на валидационной выборке:\", round(best_auc_roc_tree, 3))\n",
    "print(\"Параметр max_depth у наилучшей модели\", best_max_depth_tree)"
   ]
  },
  {
   "cell_type": "code",
   "execution_count": 40,
   "metadata": {
    "ExecuteTime": {
     "end_time": "2023-05-11T16:17:46.541010Z",
     "start_time": "2023-05-11T16:16:39.854386Z"
    }
   },
   "outputs": [
    {
     "name": "stdout",
     "output_type": "stream",
     "text": [
      "F1-мера наилучшей модели на основе случайного леса на валидационной выборке: 0.607\n",
      "AUC ROC наилучшей модели на основе случайного леса на валидационной выборке: 0.865\n",
      "Параметр max_depth у наилучшей модели 8\n",
      "Параметр n_estimators у наилучшей модели 40\n"
     ]
    }
   ],
   "source": [
    "# Перебирая параметры количества деревьев и максимальной глубины, выберем модель на основе случайного леса\n",
    "# (обучая на уменьшенной выборке), обеспечивающую максимальные показатели качества на валидационной выборке\n",
    "best_model_forest = None\n",
    "best_f1_forest = 0\n",
    "best_auc_roc_forest = 0\n",
    "best_max_depth_forest = 0\n",
    "best_n_estimators_forest = 0\n",
    "for est in range(5, 101, 5):\n",
    "    # print('estimators =', est)\n",
    "    for depth in range(2, 11):\n",
    "        model = RandomForestClassifier(random_state=RANDOM_STATE, n_estimators=est, max_depth=depth)\n",
    "        model.fit(features_downsampled, target_downsampled) # обучим модель на уменьшенной выбоке\n",
    "        predicted_forest_valid = model.predict(features_valid_ohe_scaled)\n",
    "        result_f1 = f1_score(target_valid, predicted_forest_valid) # посчитаем качество модели на валидационной выборке\n",
    "        probabilities_forest_valid = model.predict_proba(features_valid_ohe_scaled)\n",
    "        probabilities_one_valid = probabilities_forest_valid[:, 1]\n",
    "        result_auc_roc = roc_auc_score(target_valid, probabilities_one_valid)\n",
    "        # print('F1:', round(result_f1, 3), 'AUC-ROC:', round(result_auc_roc, 3))\n",
    "        if result_f1 > best_f1_forest and result_auc_roc > best_auc_roc_forest:\n",
    "            best_model_forest = model # сохраним наилучшую модель\n",
    "            best_f1_forest = result_f1 #  сохраним наилучшее значение f1 меры на валидационных данных\n",
    "            best_auc_roc_forest = result_auc_roc #  сохраним наилучшее значение auc roc на валидационных данных\n",
    "            best_max_depth_forest = depth\n",
    "            best_n_estimators_forest = est\n",
    "print(\"F1-мера наилучшей модели на основе случайного леса на валидационной выборке:\", round(best_f1_forest, 3))\n",
    "print(\"AUC ROC наилучшей модели на основе случайного леса на валидационной выборке:\", round(best_auc_roc_forest, 3))\n",
    "print(\"Параметр max_depth у наилучшей модели\", best_max_depth_forest)\n",
    "print(\"Параметр n_estimators у наилучшей модели\", best_n_estimators_forest)"
   ]
  },
  {
   "cell_type": "markdown",
   "metadata": {},
   "source": [
    "Результаты и гиперпараметры различных моделей при обучении на уменьшенной выборке:\n",
    "- модель линейной регрессии - F1-мера 0,504, площадь под ROC кривой 0,73,\n",
    "- модель решающего дерева F1-мера 0,564, площадь под ROC кривой 0,834 (максимальная глубина 6),\n",
    "- модель случайного леса F1-мера 0,607, площадь под ROC кривой 0,865 (число деревьев 40, максимальная глубина 8).\n",
    "\n",
    "По метрикам качества результаты изменились в худшую сторону у всех моделей."
   ]
  },
  {
   "cell_type": "markdown",
   "metadata": {},
   "source": [
    "Выводы:\n",
    "- проанализировано качество моделей на основе логичтиеской регрессии, на основе решающего дерева и на основе случайного леса, обученных на выборках, к которым применялись различные способы борьбы с дисбалансом классов (взвешивание классов, увеличение и уменьшение выборки),\n",
    "- целевое значение качества удалось достигнуть только модели на основе случайного леса,\n",
    "- наихудшие результаты показала модель на основе линейной регрессии, наилучшие - на основе случайного леса,\n",
    "- наилучшие результаты достигнуты при использовании взвешивания классов,\n",
    "- самая лучшая модель - модель на основе случайного леса (число деревье 30, максимальная глубина 9), со взвешиванием классов, её и возьмём для тестирования."
   ]
  },
  {
   "cell_type": "markdown",
   "metadata": {},
   "source": [
    "## Тестирование модели"
   ]
  },
  {
   "cell_type": "code",
   "execution_count": 41,
   "metadata": {
    "ExecuteTime": {
     "end_time": "2023-05-11T16:17:47.059577Z",
     "start_time": "2023-05-11T16:17:46.547944Z"
    }
   },
   "outputs": [
    {
     "name": "stdout",
     "output_type": "stream",
     "text": [
      "F1-мера лучшей модели на тестовой выборке: 0.6\n",
      "Площадь под ROC-кривой лучшей модели на тестовой выборке: 0.8579302421264274\n"
     ]
    }
   ],
   "source": [
    "# Обучим модель случайного леса со взвешиванием классов, установив гиперпараметры, подобранные на валидационной выборке.\n",
    "# Протеcтируем модель на тестовой выборке\n",
    "best_model_forest = RandomForestClassifier(random_state=RANDOM_STATE,n_estimators=30,\n",
    "                                       max_depth=9, class_weight='balanced')\n",
    "best_model_forest.fit(features_train_ohe_scaled, target_train)\n",
    "predicted_forest_test = best_model_forest.predict(features_test_ohe_scaled)\n",
    "best_f1_test = f1_score(target_test, predicted_forest_test)\n",
    "print('F1-мера лучшей модели на тестовой выборке:', round(best_f1_test, 3))\n",
    "probabilities_forest_test = model.predict_proba(features_test_ohe_scaled)\n",
    "probabilities_one_test = probabilities_forest_test[:, 1]\n",
    "best_auc_roc_test = roc_auc_score(target_test, probabilities_one_test)\n",
    "print('Площадь под ROC-кривой лучшей модели на тестовой выборке:', best_auc_roc_test)"
   ]
  },
  {
   "cell_type": "markdown",
   "metadata": {},
   "source": [
    "Построим ROC кривую"
   ]
  },
  {
   "cell_type": "code",
   "execution_count": 42,
   "metadata": {
    "ExecuteTime": {
     "end_time": "2023-05-11T16:17:48.063633Z",
     "start_time": "2023-05-11T16:17:47.065562Z"
    }
   },
   "outputs": [
    {
     "data": {
      "image/png": "[encoded data removed]",
      "text/plain": [
       "<Figure size 600x600 with 1 Axes>"
      ]
     },
     "metadata": {},
     "output_type": "display_data"
    }
   ],
   "source": [
    "fpr, tpr, thresholds = roc_curve(target_test, probabilities_one_test)\n",
    "plt.figure(figsize=(6, 6))\n",
    "plt.step(fpr, tpr, where='post')\n",
    "plt.xlabel('FPR')\n",
    "plt.ylabel('TPR')\n",
    "plt.ylim([0.0, 1.05])\n",
    "plt.xlim([0.0, 1.0])\n",
    "plt.title('Кривая ROC')\n",
    "plt.show()"
   ]
  },
  {
   "cell_type": "code",
   "execution_count": 43,
   "metadata": {
    "ExecuteTime": {
     "end_time": "2023-05-11T16:17:48.095501Z",
     "start_time": "2023-05-11T16:17:48.069571Z"
    }
   },
   "outputs": [
    {
     "data": {
      "text/plain": [
       "0.3235023041474654"
      ]
     },
     "execution_count": 43,
     "metadata": {},
     "output_type": "execute_result"
    }
   ],
   "source": [
    "# Для сравнения посчитаем F1-меру константной модели, которая по каждому клиенту прогнозирует уход в ближайшее время\n",
    "dummy_model = DummyClassifier(strategy='constant', constant=1)\n",
    "dummy_model.fit(features_train_ohe_scaled, target_train)\n",
    "f1_score(dummy_model.predict(features_test_ohe_scaled), target_test)"
   ]
  },
  {
   "cell_type": "markdown",
   "metadata": {},
   "source": [
    "F1-мера константной модели существенно хуже, чем у полученной модели."
   ]
  },
  {
   "cell_type": "code",
   "execution_count": 44,
   "metadata": {
    "ExecuteTime": {
     "end_time": "2023-05-11T16:17:48.127417Z",
     "start_time": "2023-05-11T16:17:48.102485Z"
    }
   },
   "outputs": [
    {
     "name": "stdout",
     "output_type": "stream",
     "text": [
      "Полученная модель правильно определяет ~ 64.4 % клиентов на отток.\n"
     ]
    }
   ],
   "source": [
    "# Определим recall полученной модели\n",
    "print('Полученная модель правильно определяет ~ ', round(100*recall_score(target_test, predicted_forest_test), 1),\n",
    "      ' % клиентов на отток.', sep='')"
   ]
  },
  {
   "cell_type": "markdown",
   "metadata": {},
   "source": [
    "Общий вывод:\n",
    "- на этапе подготовки данных удалили нерелевантные признаки и часть объектов с пропусками,\n",
    "- перед обучением моделей выполнили прямое кодирование категориальных признаков и масштабирование числовых признаков,\n",
    "- применили для решения задачи несколько моделей, а также различные способы борьбы с дисбалансом классов,\n",
    "- удалось добиться целевого значения метрики качества F1-мера,\n",
    "- при выборе наилучшей модели дополнительно определялась метрика AUC-ROC,\n",
    "- для наилучшей модели построена ROC-кривая,\n",
    "- выполнено сравнение выбранной модели с константной, показатель качества F1-мера константной модели существенно ниже, чем у модели,\n",
    "- полученная модель на тестовой выборке позволила достигнуть целевого значения метрики качества F1-мера и корректно определила более 64% клиентов на отток."
   ]
  }
 ],
 "metadata": {
  "ExecuteTimeLog": [
   {
    "duration": 681,
    "start_time": "2023-02-10T11:49:49.121Z"
   },
   {
    "duration": 104,
    "start_time": "2023-02-10T11:49:52.489Z"
   },
   {
    "duration": 18,
    "start_time": "2023-02-10T11:50:25.119Z"
   },
   {
    "duration": 48,
    "start_time": "2023-02-10T11:58:48.222Z"
   },
   {
    "duration": 4,
    "start_time": "2023-02-10T11:59:05.733Z"
   },
   {
    "duration": 77,
    "start_time": "2023-02-10T11:59:05.739Z"
   },
   {
    "duration": 13,
    "start_time": "2023-02-10T11:59:05.817Z"
   },
   {
    "duration": 1343,
    "start_time": "2023-02-10T11:59:27.627Z"
   },
   {
    "duration": 58,
    "start_time": "2023-02-10T11:59:28.972Z"
   },
   {
    "duration": 16,
    "start_time": "2023-02-10T11:59:29.032Z"
   },
   {
    "duration": 12,
    "start_time": "2023-02-10T12:00:08.044Z"
   },
   {
    "duration": 893,
    "start_time": "2023-02-10T12:18:34.947Z"
   },
   {
    "duration": 7,
    "start_time": "2023-02-10T12:18:47.165Z"
   },
   {
    "duration": 7,
    "start_time": "2023-02-10T12:21:29.670Z"
   },
   {
    "duration": 22,
    "start_time": "2023-02-10T12:23:41.183Z"
   },
   {
    "duration": 14,
    "start_time": "2023-02-10T12:25:23.671Z"
   },
   {
    "duration": 15,
    "start_time": "2023-02-10T12:25:34.451Z"
   },
   {
    "duration": 13,
    "start_time": "2023-02-10T12:25:48.169Z"
   },
   {
    "duration": 13,
    "start_time": "2023-02-10T12:26:11.071Z"
   },
   {
    "duration": 14,
    "start_time": "2023-02-10T12:26:31.799Z"
   },
   {
    "duration": 8,
    "start_time": "2023-02-10T12:26:49.528Z"
   },
   {
    "duration": 5,
    "start_time": "2023-02-10T12:26:56.570Z"
   },
   {
    "duration": 5,
    "start_time": "2023-02-10T12:27:06.920Z"
   },
   {
    "duration": 66,
    "start_time": "2023-02-10T12:28:05.434Z"
   },
   {
    "duration": 8,
    "start_time": "2023-02-10T12:28:10.641Z"
   },
   {
    "duration": 9,
    "start_time": "2023-02-10T12:28:16.119Z"
   },
   {
    "duration": 35,
    "start_time": "2023-02-10T12:28:33.429Z"
   },
   {
    "duration": 31,
    "start_time": "2023-02-10T12:28:49.042Z"
   },
   {
    "duration": 4,
    "start_time": "2023-02-10T12:29:26.267Z"
   },
   {
    "duration": 3,
    "start_time": "2023-02-10T12:29:38.985Z"
   },
   {
    "duration": 26,
    "start_time": "2023-02-10T12:29:47.504Z"
   },
   {
    "duration": 28,
    "start_time": "2023-02-10T12:31:30.795Z"
   },
   {
    "duration": 27,
    "start_time": "2023-02-10T12:32:27.403Z"
   },
   {
    "duration": 32,
    "start_time": "2023-02-10T12:33:25.669Z"
   },
   {
    "duration": 32,
    "start_time": "2023-02-10T12:34:03.512Z"
   },
   {
    "duration": 35,
    "start_time": "2023-02-10T12:34:43.150Z"
   },
   {
    "duration": 13,
    "start_time": "2023-02-10T13:22:22.189Z"
   },
   {
    "duration": 15,
    "start_time": "2023-02-10T13:23:14.668Z"
   },
   {
    "duration": 11,
    "start_time": "2023-02-10T13:23:25.522Z"
   },
   {
    "duration": 48,
    "start_time": "2023-02-10T13:27:27.440Z"
   },
   {
    "duration": 5,
    "start_time": "2023-02-10T13:37:02.979Z"
   },
   {
    "duration": 7,
    "start_time": "2023-02-10T13:37:29.283Z"
   },
   {
    "duration": 9,
    "start_time": "2023-02-10T13:43:23.712Z"
   },
   {
    "duration": 29,
    "start_time": "2023-02-10T13:43:46.037Z"
   },
   {
    "duration": 38,
    "start_time": "2023-02-10T13:45:48.681Z"
   },
   {
    "duration": 51,
    "start_time": "2023-02-20T11:47:00.462Z"
   },
   {
    "duration": 1691,
    "start_time": "2023-02-20T11:47:10.480Z"
   },
   {
    "duration": 200,
    "start_time": "2023-02-20T11:47:12.173Z"
   },
   {
    "duration": 17,
    "start_time": "2023-02-20T11:47:12.375Z"
   },
   {
    "duration": 13,
    "start_time": "2023-02-20T11:47:12.394Z"
   },
   {
    "duration": 7,
    "start_time": "2023-02-20T11:47:18.188Z"
   },
   {
    "duration": 78,
    "start_time": "2023-02-20T11:47:39.596Z"
   },
   {
    "duration": 81,
    "start_time": "2023-02-20T11:47:45.119Z"
   },
   {
    "duration": 82,
    "start_time": "2023-02-20T11:47:52.481Z"
   },
   {
    "duration": 19,
    "start_time": "2023-02-20T11:47:59.157Z"
   },
   {
    "duration": 75,
    "start_time": "2023-02-20T11:48:10.459Z"
   },
   {
    "duration": 76,
    "start_time": "2023-02-20T11:48:34.607Z"
   },
   {
    "duration": 4,
    "start_time": "2023-02-20T11:48:42.569Z"
   },
   {
    "duration": 8,
    "start_time": "2023-02-20T11:48:49.467Z"
   },
   {
    "duration": 12,
    "start_time": "2023-02-20T11:49:37.777Z"
   },
   {
    "duration": 8,
    "start_time": "2023-02-20T11:49:49.306Z"
   },
   {
    "duration": 7,
    "start_time": "2023-02-20T11:52:01.826Z"
   },
   {
    "duration": 8,
    "start_time": "2023-02-20T11:54:09.727Z"
   },
   {
    "duration": 21,
    "start_time": "2023-02-20T12:01:33.455Z"
   },
   {
    "duration": 13,
    "start_time": "2023-02-20T12:16:19.719Z"
   },
   {
    "duration": 4,
    "start_time": "2023-02-20T12:16:43.739Z"
   },
   {
    "duration": 118,
    "start_time": "2023-02-20T12:16:43.747Z"
   },
   {
    "duration": 15,
    "start_time": "2023-02-20T12:16:43.867Z"
   },
   {
    "duration": 23,
    "start_time": "2023-02-20T12:16:43.884Z"
   },
   {
    "duration": 7,
    "start_time": "2023-02-20T12:16:43.910Z"
   },
   {
    "duration": 22,
    "start_time": "2023-02-20T12:16:43.919Z"
   },
   {
    "duration": 19,
    "start_time": "2023-02-20T12:16:43.983Z"
   },
   {
    "duration": 14,
    "start_time": "2023-02-20T12:19:18.860Z"
   },
   {
    "duration": 11,
    "start_time": "2023-02-20T12:19:27.619Z"
   },
   {
    "duration": 4,
    "start_time": "2023-02-20T12:23:46.299Z"
   },
   {
    "duration": 15,
    "start_time": "2023-02-20T12:23:56.851Z"
   },
   {
    "duration": 12,
    "start_time": "2023-02-20T12:25:58.001Z"
   },
   {
    "duration": 13,
    "start_time": "2023-02-20T12:27:16.151Z"
   },
   {
    "duration": 4,
    "start_time": "2023-02-20T12:38:39.548Z"
   },
   {
    "duration": 90,
    "start_time": "2023-02-20T12:38:39.555Z"
   },
   {
    "duration": 14,
    "start_time": "2023-02-20T12:38:39.647Z"
   },
   {
    "duration": 12,
    "start_time": "2023-02-20T12:38:39.662Z"
   },
   {
    "duration": 7,
    "start_time": "2023-02-20T12:38:39.676Z"
   },
   {
    "duration": 5,
    "start_time": "2023-02-20T12:38:39.684Z"
   },
   {
    "duration": 22,
    "start_time": "2023-02-20T12:38:39.691Z"
   },
   {
    "duration": 14,
    "start_time": "2023-02-20T12:38:39.715Z"
   },
   {
    "duration": 9,
    "start_time": "2023-02-20T12:38:39.731Z"
   },
   {
    "duration": 10,
    "start_time": "2023-02-20T12:38:49.389Z"
   },
   {
    "duration": 12,
    "start_time": "2023-02-20T12:38:52.880Z"
   },
   {
    "duration": 39,
    "start_time": "2023-02-20T12:41:17.062Z"
   },
   {
    "duration": 3,
    "start_time": "2023-02-20T12:42:32.579Z"
   },
   {
    "duration": 24,
    "start_time": "2023-02-20T12:42:48.007Z"
   },
   {
    "duration": 21,
    "start_time": "2023-02-20T12:47:48.559Z"
   },
   {
    "duration": 7,
    "start_time": "2023-02-20T12:48:47.121Z"
   },
   {
    "duration": 6,
    "start_time": "2023-02-20T12:50:25.019Z"
   },
   {
    "duration": 6,
    "start_time": "2023-02-20T12:50:52.045Z"
   },
   {
    "duration": 5,
    "start_time": "2023-02-20T12:52:01.240Z"
   },
   {
    "duration": 5,
    "start_time": "2023-02-20T12:53:04.330Z"
   },
   {
    "duration": 5,
    "start_time": "2023-02-20T12:53:34.927Z"
   },
   {
    "duration": 5,
    "start_time": "2023-02-20T12:54:14.522Z"
   },
   {
    "duration": 7,
    "start_time": "2023-02-20T12:55:23.331Z"
   },
   {
    "duration": 13,
    "start_time": "2023-02-20T13:06:46.714Z"
   },
   {
    "duration": 15,
    "start_time": "2023-02-20T13:17:04.061Z"
   },
   {
    "duration": 0,
    "start_time": "2023-02-20T13:17:04.152Z"
   },
   {
    "duration": 0,
    "start_time": "2023-02-20T13:17:04.153Z"
   },
   {
    "duration": 0,
    "start_time": "2023-02-20T13:17:04.154Z"
   },
   {
    "duration": 0,
    "start_time": "2023-02-20T13:17:04.155Z"
   },
   {
    "duration": 0,
    "start_time": "2023-02-20T13:17:04.156Z"
   },
   {
    "duration": 0,
    "start_time": "2023-02-20T13:17:04.157Z"
   },
   {
    "duration": 0,
    "start_time": "2023-02-20T13:17:04.158Z"
   },
   {
    "duration": 0,
    "start_time": "2023-02-20T13:17:04.161Z"
   },
   {
    "duration": 0,
    "start_time": "2023-02-20T13:17:04.162Z"
   },
   {
    "duration": 0,
    "start_time": "2023-02-20T13:17:04.163Z"
   },
   {
    "duration": 0,
    "start_time": "2023-02-20T13:17:04.164Z"
   },
   {
    "duration": 1,
    "start_time": "2023-02-20T13:17:04.165Z"
   },
   {
    "duration": 0,
    "start_time": "2023-02-20T13:17:04.167Z"
   },
   {
    "duration": 0,
    "start_time": "2023-02-20T13:17:04.168Z"
   },
   {
    "duration": 0,
    "start_time": "2023-02-20T13:17:04.169Z"
   },
   {
    "duration": 0,
    "start_time": "2023-02-20T13:17:04.170Z"
   },
   {
    "duration": 0,
    "start_time": "2023-02-20T13:17:04.171Z"
   },
   {
    "duration": 0,
    "start_time": "2023-02-20T13:17:04.173Z"
   },
   {
    "duration": 0,
    "start_time": "2023-02-20T13:17:04.174Z"
   },
   {
    "duration": 1420,
    "start_time": "2023-02-20T13:17:22.747Z"
   },
   {
    "duration": 71,
    "start_time": "2023-02-20T13:17:24.168Z"
   },
   {
    "duration": 18,
    "start_time": "2023-02-20T13:17:24.241Z"
   },
   {
    "duration": 14,
    "start_time": "2023-02-20T13:17:24.261Z"
   },
   {
    "duration": 20,
    "start_time": "2023-02-20T13:17:24.277Z"
   },
   {
    "duration": 20,
    "start_time": "2023-02-20T13:17:24.298Z"
   },
   {
    "duration": 32,
    "start_time": "2023-02-20T13:17:24.322Z"
   },
   {
    "duration": 29,
    "start_time": "2023-02-20T13:17:24.356Z"
   },
   {
    "duration": 24,
    "start_time": "2023-02-20T13:17:24.387Z"
   },
   {
    "duration": 30,
    "start_time": "2023-02-20T13:17:24.415Z"
   },
   {
    "duration": 4,
    "start_time": "2023-02-20T13:17:24.447Z"
   },
   {
    "duration": 33,
    "start_time": "2023-02-20T13:17:24.453Z"
   },
   {
    "duration": 6,
    "start_time": "2023-02-20T13:17:24.488Z"
   },
   {
    "duration": 17,
    "start_time": "2023-02-20T13:17:24.495Z"
   },
   {
    "duration": 14,
    "start_time": "2023-02-20T13:17:24.514Z"
   },
   {
    "duration": 23,
    "start_time": "2023-02-20T13:17:24.530Z"
   },
   {
    "duration": 7,
    "start_time": "2023-02-20T13:17:24.555Z"
   },
   {
    "duration": 11,
    "start_time": "2023-02-20T13:17:24.564Z"
   },
   {
    "duration": 74,
    "start_time": "2023-02-20T13:17:24.576Z"
   },
   {
    "duration": 0,
    "start_time": "2023-02-20T13:17:24.653Z"
   },
   {
    "duration": 11,
    "start_time": "2023-02-20T13:18:40.169Z"
   },
   {
    "duration": 4,
    "start_time": "2023-02-20T13:34:36.318Z"
   },
   {
    "duration": 20,
    "start_time": "2023-02-20T13:45:09.416Z"
   },
   {
    "duration": 18,
    "start_time": "2023-02-20T13:47:45.731Z"
   },
   {
    "duration": 109,
    "start_time": "2023-02-20T14:09:47.925Z"
   },
   {
    "duration": 10,
    "start_time": "2023-02-20T14:11:52.290Z"
   },
   {
    "duration": 1325,
    "start_time": "2023-02-20T14:12:12.154Z"
   },
   {
    "duration": 78,
    "start_time": "2023-02-20T14:12:13.481Z"
   },
   {
    "duration": 16,
    "start_time": "2023-02-20T14:12:13.561Z"
   },
   {
    "duration": 13,
    "start_time": "2023-02-20T14:12:13.579Z"
   },
   {
    "duration": 11,
    "start_time": "2023-02-20T14:12:13.595Z"
   },
   {
    "duration": 7,
    "start_time": "2023-02-20T14:12:13.607Z"
   },
   {
    "duration": 20,
    "start_time": "2023-02-20T14:12:13.616Z"
   },
   {
    "duration": 21,
    "start_time": "2023-02-20T14:12:13.638Z"
   },
   {
    "duration": 13,
    "start_time": "2023-02-20T14:12:13.661Z"
   },
   {
    "duration": 46,
    "start_time": "2023-02-20T14:12:13.675Z"
   },
   {
    "duration": 3,
    "start_time": "2023-02-20T14:12:13.723Z"
   },
   {
    "duration": 35,
    "start_time": "2023-02-20T14:12:13.728Z"
   },
   {
    "duration": 6,
    "start_time": "2023-02-20T14:12:13.765Z"
   },
   {
    "duration": 9,
    "start_time": "2023-02-20T14:12:13.774Z"
   },
   {
    "duration": 6,
    "start_time": "2023-02-20T14:12:13.804Z"
   },
   {
    "duration": 12,
    "start_time": "2023-02-20T14:12:13.812Z"
   },
   {
    "duration": 8,
    "start_time": "2023-02-20T14:12:13.826Z"
   },
   {
    "duration": 9,
    "start_time": "2023-02-20T14:12:13.836Z"
   },
   {
    "duration": 25,
    "start_time": "2023-02-20T14:12:13.846Z"
   },
   {
    "duration": 53,
    "start_time": "2023-02-20T14:12:13.873Z"
   },
   {
    "duration": 10,
    "start_time": "2023-02-20T14:12:13.928Z"
   },
   {
    "duration": 4,
    "start_time": "2023-02-20T14:13:12.329Z"
   },
   {
    "duration": 87,
    "start_time": "2023-02-20T14:13:12.336Z"
   },
   {
    "duration": 12,
    "start_time": "2023-02-20T14:13:12.425Z"
   },
   {
    "duration": 21,
    "start_time": "2023-02-20T14:13:12.439Z"
   },
   {
    "duration": 8,
    "start_time": "2023-02-20T14:13:12.461Z"
   },
   {
    "duration": 5,
    "start_time": "2023-02-20T14:13:12.471Z"
   },
   {
    "duration": 32,
    "start_time": "2023-02-20T14:13:12.477Z"
   },
   {
    "duration": 13,
    "start_time": "2023-02-20T14:13:12.511Z"
   },
   {
    "duration": 9,
    "start_time": "2023-02-20T14:13:12.526Z"
   },
   {
    "duration": 13,
    "start_time": "2023-02-20T14:13:12.538Z"
   },
   {
    "duration": 11,
    "start_time": "2023-02-20T14:13:12.552Z"
   },
   {
    "duration": 54,
    "start_time": "2023-02-20T14:13:12.565Z"
   },
   {
    "duration": 6,
    "start_time": "2023-02-20T14:13:12.621Z"
   },
   {
    "duration": 7,
    "start_time": "2023-02-20T14:13:12.628Z"
   },
   {
    "duration": 6,
    "start_time": "2023-02-20T14:13:12.637Z"
   },
   {
    "duration": 6,
    "start_time": "2023-02-20T14:13:12.645Z"
   },
   {
    "duration": 6,
    "start_time": "2023-02-20T14:13:12.653Z"
   },
   {
    "duration": 8,
    "start_time": "2023-02-20T14:13:12.661Z"
   },
   {
    "duration": 45,
    "start_time": "2023-02-20T14:13:12.670Z"
   },
   {
    "duration": 31,
    "start_time": "2023-02-20T14:13:50.225Z"
   },
   {
    "duration": 9,
    "start_time": "2023-02-20T14:17:34.465Z"
   },
   {
    "duration": 16,
    "start_time": "2023-02-20T14:19:06.533Z"
   },
   {
    "duration": 25,
    "start_time": "2023-02-20T14:22:14.175Z"
   },
   {
    "duration": 9,
    "start_time": "2023-02-20T14:26:47.627Z"
   },
   {
    "duration": 19,
    "start_time": "2023-02-20T14:28:11.568Z"
   },
   {
    "duration": 18,
    "start_time": "2023-02-20T14:31:51.965Z"
   },
   {
    "duration": 115,
    "start_time": "2023-02-20T14:32:26.235Z"
   },
   {
    "duration": 5,
    "start_time": "2023-02-20T14:36:36.958Z"
   },
   {
    "duration": 82,
    "start_time": "2023-02-20T14:36:36.965Z"
   },
   {
    "duration": 13,
    "start_time": "2023-02-20T14:36:37.049Z"
   },
   {
    "duration": 12,
    "start_time": "2023-02-20T14:36:37.064Z"
   },
   {
    "duration": 8,
    "start_time": "2023-02-20T14:36:37.079Z"
   },
   {
    "duration": 7,
    "start_time": "2023-02-20T14:36:37.089Z"
   },
   {
    "duration": 19,
    "start_time": "2023-02-20T14:36:37.098Z"
   },
   {
    "duration": 15,
    "start_time": "2023-02-20T14:36:37.118Z"
   },
   {
    "duration": 13,
    "start_time": "2023-02-20T14:36:37.135Z"
   },
   {
    "duration": 32,
    "start_time": "2023-02-20T14:36:37.149Z"
   },
   {
    "duration": 2,
    "start_time": "2023-02-20T14:36:37.183Z"
   },
   {
    "duration": 40,
    "start_time": "2023-02-20T14:36:37.187Z"
   },
   {
    "duration": 6,
    "start_time": "2023-02-20T14:36:37.229Z"
   },
   {
    "duration": 7,
    "start_time": "2023-02-20T14:36:37.236Z"
   },
   {
    "duration": 9,
    "start_time": "2023-02-20T14:36:37.245Z"
   },
   {
    "duration": 10,
    "start_time": "2023-02-20T14:36:37.255Z"
   },
   {
    "duration": 12,
    "start_time": "2023-02-20T14:36:37.266Z"
   },
   {
    "duration": 16,
    "start_time": "2023-02-20T14:36:42.065Z"
   },
   {
    "duration": 17,
    "start_time": "2023-02-20T14:52:49.417Z"
   },
   {
    "duration": 16,
    "start_time": "2023-02-20T14:53:34.314Z"
   },
   {
    "duration": 26,
    "start_time": "2023-02-20T14:54:43.886Z"
   },
   {
    "duration": 9,
    "start_time": "2023-02-20T14:57:04.758Z"
   },
   {
    "duration": 6,
    "start_time": "2023-02-20T14:59:36.799Z"
   },
   {
    "duration": 6,
    "start_time": "2023-02-20T15:02:23.588Z"
   },
   {
    "duration": 6,
    "start_time": "2023-02-20T15:02:46.111Z"
   },
   {
    "duration": 4,
    "start_time": "2023-02-20T15:05:07.388Z"
   },
   {
    "duration": 5,
    "start_time": "2023-02-20T15:05:58.149Z"
   },
   {
    "duration": 5,
    "start_time": "2023-02-20T15:06:12.729Z"
   },
   {
    "duration": 4,
    "start_time": "2023-02-20T15:06:58.872Z"
   },
   {
    "duration": 5,
    "start_time": "2023-02-20T15:08:42.244Z"
   },
   {
    "duration": 6,
    "start_time": "2023-02-20T15:08:55.452Z"
   },
   {
    "duration": 21,
    "start_time": "2023-02-20T15:10:43.462Z"
   },
   {
    "duration": 42,
    "start_time": "2023-02-20T15:43:56.192Z"
   },
   {
    "duration": 6,
    "start_time": "2023-02-20T15:48:37.587Z"
   },
   {
    "duration": 9,
    "start_time": "2023-02-20T15:57:44.204Z"
   },
   {
    "duration": 4,
    "start_time": "2023-02-20T15:58:22.149Z"
   },
   {
    "duration": 640,
    "start_time": "2023-02-20T15:58:41.804Z"
   },
   {
    "duration": 40,
    "start_time": "2023-02-20T16:13:08.976Z"
   },
   {
    "duration": 42,
    "start_time": "2023-02-20T16:13:21.153Z"
   },
   {
    "duration": 626,
    "start_time": "2023-02-20T16:13:28.924Z"
   },
   {
    "duration": 4,
    "start_time": "2023-02-20T16:19:09.561Z"
   },
   {
    "duration": 13,
    "start_time": "2023-02-20T16:21:16.796Z"
   },
   {
    "duration": 28,
    "start_time": "2023-02-20T16:23:35.651Z"
   },
   {
    "duration": 45,
    "start_time": "2023-02-20T16:24:33.103Z"
   },
   {
    "duration": 919,
    "start_time": "2023-02-20T16:25:11.141Z"
   },
   {
    "duration": 5,
    "start_time": "2023-02-20T16:29:34.640Z"
   },
   {
    "duration": 9,
    "start_time": "2023-02-20T16:31:27.886Z"
   },
   {
    "duration": 15,
    "start_time": "2023-02-20T16:32:25.572Z"
   },
   {
    "duration": 25,
    "start_time": "2023-02-20T16:32:48.647Z"
   },
   {
    "duration": 359,
    "start_time": "2023-02-20T16:33:04.062Z"
   },
   {
    "duration": 1365,
    "start_time": "2023-02-20T16:35:43.819Z"
   },
   {
    "duration": 72,
    "start_time": "2023-02-20T16:35:45.186Z"
   },
   {
    "duration": 17,
    "start_time": "2023-02-20T16:35:45.260Z"
   },
   {
    "duration": 14,
    "start_time": "2023-02-20T16:35:45.280Z"
   },
   {
    "duration": 9,
    "start_time": "2023-02-20T16:35:45.296Z"
   },
   {
    "duration": 6,
    "start_time": "2023-02-20T16:35:45.307Z"
   },
   {
    "duration": 24,
    "start_time": "2023-02-20T16:35:45.315Z"
   },
   {
    "duration": 18,
    "start_time": "2023-02-20T16:35:45.341Z"
   },
   {
    "duration": 11,
    "start_time": "2023-02-20T16:35:45.361Z"
   },
   {
    "duration": 38,
    "start_time": "2023-02-20T16:35:45.375Z"
   },
   {
    "duration": 2,
    "start_time": "2023-02-20T16:35:45.415Z"
   },
   {
    "duration": 28,
    "start_time": "2023-02-20T16:35:45.419Z"
   },
   {
    "duration": 6,
    "start_time": "2023-02-20T16:35:45.449Z"
   },
   {
    "duration": 7,
    "start_time": "2023-02-20T16:35:45.456Z"
   },
   {
    "duration": 5,
    "start_time": "2023-02-20T16:35:45.465Z"
   },
   {
    "duration": 36,
    "start_time": "2023-02-20T16:35:45.471Z"
   },
   {
    "duration": 8,
    "start_time": "2023-02-20T16:35:45.509Z"
   },
   {
    "duration": 20,
    "start_time": "2023-02-20T16:35:45.518Z"
   },
   {
    "duration": 28,
    "start_time": "2023-02-20T16:35:45.539Z"
   },
   {
    "duration": 37,
    "start_time": "2023-02-20T16:35:45.568Z"
   },
   {
    "duration": 5,
    "start_time": "2023-02-20T16:35:45.608Z"
   },
   {
    "duration": 9,
    "start_time": "2023-02-20T16:35:45.615Z"
   },
   {
    "duration": 8,
    "start_time": "2023-02-20T16:35:45.625Z"
   },
   {
    "duration": 73,
    "start_time": "2023-02-20T16:35:45.634Z"
   },
   {
    "duration": 121,
    "start_time": "2023-02-20T16:35:45.709Z"
   },
   {
    "duration": 666,
    "start_time": "2023-02-20T16:35:45.832Z"
   },
   {
    "duration": 21,
    "start_time": "2023-02-20T16:35:46.504Z"
   },
   {
    "duration": 199,
    "start_time": "2023-02-20T16:35:46.530Z"
   },
   {
    "duration": 709,
    "start_time": "2023-02-20T16:35:46.731Z"
   },
   {
    "duration": 3,
    "start_time": "2023-02-20T16:35:47.442Z"
   },
   {
    "duration": 12,
    "start_time": "2023-02-20T16:35:47.447Z"
   },
   {
    "duration": 48,
    "start_time": "2023-02-20T16:35:47.460Z"
   },
   {
    "duration": 128,
    "start_time": "2023-02-20T16:35:47.510Z"
   },
   {
    "duration": 893,
    "start_time": "2023-02-20T16:35:47.640Z"
   },
   {
    "duration": 5,
    "start_time": "2023-02-20T16:35:48.534Z"
   },
   {
    "duration": 14,
    "start_time": "2023-02-20T16:35:48.541Z"
   },
   {
    "duration": 51,
    "start_time": "2023-02-20T16:35:48.556Z"
   },
   {
    "duration": 108,
    "start_time": "2023-02-20T16:35:48.613Z"
   },
   {
    "duration": 359,
    "start_time": "2023-02-20T16:35:48.722Z"
   },
   {
    "duration": 868,
    "start_time": "2023-02-20T16:40:51.963Z"
   },
   {
    "duration": 872,
    "start_time": "2023-02-20T16:42:59.656Z"
   },
   {
    "duration": 87,
    "start_time": "2023-02-20T16:53:28.019Z"
   },
   {
    "duration": 56,
    "start_time": "2023-02-20T16:53:34.743Z"
   },
   {
    "duration": 119,
    "start_time": "2023-02-20T16:57:03.502Z"
   },
   {
    "duration": 1435,
    "start_time": "2023-02-20T17:01:40.587Z"
   },
   {
    "duration": 83,
    "start_time": "2023-02-20T17:01:42.024Z"
   },
   {
    "duration": 17,
    "start_time": "2023-02-20T17:01:42.108Z"
   },
   {
    "duration": 13,
    "start_time": "2023-02-20T17:01:42.127Z"
   },
   {
    "duration": 10,
    "start_time": "2023-02-20T17:01:42.142Z"
   },
   {
    "duration": 7,
    "start_time": "2023-02-20T17:01:42.154Z"
   },
   {
    "duration": 54,
    "start_time": "2023-02-20T17:01:42.163Z"
   },
   {
    "duration": 19,
    "start_time": "2023-02-20T17:01:42.219Z"
   },
   {
    "duration": 14,
    "start_time": "2023-02-20T17:01:42.240Z"
   },
   {
    "duration": 12,
    "start_time": "2023-02-20T17:01:42.257Z"
   },
   {
    "duration": 3,
    "start_time": "2023-02-20T17:01:42.270Z"
   },
   {
    "duration": 50,
    "start_time": "2023-02-20T17:01:42.275Z"
   },
   {
    "duration": 6,
    "start_time": "2023-02-20T17:01:42.326Z"
   },
   {
    "duration": 11,
    "start_time": "2023-02-20T17:01:42.333Z"
   },
   {
    "duration": 8,
    "start_time": "2023-02-20T17:01:42.345Z"
   },
   {
    "duration": 11,
    "start_time": "2023-02-20T17:01:42.355Z"
   },
   {
    "duration": 10,
    "start_time": "2023-02-20T17:01:42.368Z"
   },
   {
    "duration": 37,
    "start_time": "2023-02-20T17:01:42.380Z"
   },
   {
    "duration": 27,
    "start_time": "2023-02-20T17:01:42.419Z"
   },
   {
    "duration": 9,
    "start_time": "2023-02-20T17:01:42.448Z"
   },
   {
    "duration": 5,
    "start_time": "2023-02-20T17:01:42.458Z"
   },
   {
    "duration": 5,
    "start_time": "2023-02-20T17:01:42.465Z"
   },
   {
    "duration": 35,
    "start_time": "2023-02-20T17:01:42.471Z"
   },
   {
    "duration": 95,
    "start_time": "2023-02-20T17:01:42.508Z"
   },
   {
    "duration": 122,
    "start_time": "2023-02-20T17:01:42.605Z"
   },
   {
    "duration": 655,
    "start_time": "2023-02-20T17:01:42.729Z"
   },
   {
    "duration": 33,
    "start_time": "2023-02-20T17:01:43.385Z"
   },
   {
    "duration": 202,
    "start_time": "2023-02-20T17:01:43.422Z"
   },
   {
    "duration": 634,
    "start_time": "2023-02-20T17:01:43.626Z"
   },
   {
    "duration": 4,
    "start_time": "2023-02-20T17:01:44.262Z"
   },
   {
    "duration": 13,
    "start_time": "2023-02-20T17:01:44.267Z"
   },
   {
    "duration": 44,
    "start_time": "2023-02-20T17:01:44.281Z"
   },
   {
    "duration": 201,
    "start_time": "2023-02-20T17:01:44.328Z"
   },
   {
    "duration": 898,
    "start_time": "2023-02-20T17:01:44.531Z"
   },
   {
    "duration": 4,
    "start_time": "2023-02-20T17:01:45.432Z"
   },
   {
    "duration": 24,
    "start_time": "2023-02-20T17:01:45.438Z"
   },
   {
    "duration": 43,
    "start_time": "2023-02-20T17:01:45.463Z"
   },
   {
    "duration": 110,
    "start_time": "2023-02-20T17:01:45.508Z"
   },
   {
    "duration": 348,
    "start_time": "2023-02-20T17:01:45.620Z"
   },
   {
    "duration": 890,
    "start_time": "2023-02-20T17:01:45.970Z"
   },
   {
    "duration": 69,
    "start_time": "2023-02-20T17:01:46.864Z"
   },
   {
    "duration": 178,
    "start_time": "2023-02-20T17:01:46.935Z"
   },
   {
    "duration": 56,
    "start_time": "2023-02-24T13:09:40.110Z"
   },
   {
    "duration": 51,
    "start_time": "2023-02-24T13:10:20.307Z"
   },
   {
    "duration": 1530,
    "start_time": "2023-02-24T13:11:32.944Z"
   },
   {
    "duration": 1290,
    "start_time": "2023-02-24T13:11:41.562Z"
   },
   {
    "duration": 98,
    "start_time": "2023-02-24T13:11:42.854Z"
   },
   {
    "duration": 15,
    "start_time": "2023-02-24T13:11:42.954Z"
   },
   {
    "duration": 11,
    "start_time": "2023-02-24T13:11:42.971Z"
   },
   {
    "duration": 8,
    "start_time": "2023-02-24T13:11:42.983Z"
   },
   {
    "duration": 5,
    "start_time": "2023-02-24T13:11:42.992Z"
   },
   {
    "duration": 18,
    "start_time": "2023-02-24T13:11:42.998Z"
   },
   {
    "duration": 12,
    "start_time": "2023-02-24T13:11:43.017Z"
   },
   {
    "duration": 9,
    "start_time": "2023-02-24T13:11:43.030Z"
   },
   {
    "duration": 10,
    "start_time": "2023-02-24T13:11:43.041Z"
   },
   {
    "duration": 3,
    "start_time": "2023-02-24T13:11:43.052Z"
   },
   {
    "duration": 53,
    "start_time": "2023-02-24T13:11:43.056Z"
   },
   {
    "duration": 5,
    "start_time": "2023-02-24T13:11:43.110Z"
   },
   {
    "duration": 8,
    "start_time": "2023-02-24T13:11:43.116Z"
   },
   {
    "duration": 7,
    "start_time": "2023-02-24T13:11:43.125Z"
   },
   {
    "duration": 9,
    "start_time": "2023-02-24T13:11:43.134Z"
   },
   {
    "duration": 23,
    "start_time": "2023-02-24T13:11:43.144Z"
   },
   {
    "duration": 20,
    "start_time": "2023-02-24T13:11:43.168Z"
   },
   {
    "duration": 25,
    "start_time": "2023-02-24T13:11:43.190Z"
   },
   {
    "duration": 7,
    "start_time": "2023-02-24T13:11:43.217Z"
   },
   {
    "duration": 6,
    "start_time": "2023-02-24T13:11:43.226Z"
   },
   {
    "duration": 8,
    "start_time": "2023-02-24T13:11:43.233Z"
   },
   {
    "duration": 7,
    "start_time": "2023-02-24T13:11:43.242Z"
   },
   {
    "duration": 48,
    "start_time": "2023-02-24T13:11:43.250Z"
   },
   {
    "duration": 121,
    "start_time": "2023-02-24T13:11:43.300Z"
   },
   {
    "duration": 637,
    "start_time": "2023-02-24T13:11:43.423Z"
   },
   {
    "duration": 37,
    "start_time": "2023-02-24T13:11:44.061Z"
   },
   {
    "duration": 192,
    "start_time": "2023-02-24T13:11:44.103Z"
   },
   {
    "duration": 563,
    "start_time": "2023-02-24T13:11:44.296Z"
   },
   {
    "duration": 4,
    "start_time": "2023-02-24T13:11:44.860Z"
   },
   {
    "duration": 15,
    "start_time": "2023-02-24T13:11:44.865Z"
   },
   {
    "duration": 30,
    "start_time": "2023-02-24T13:11:44.881Z"
   },
   {
    "duration": 203,
    "start_time": "2023-02-24T13:11:44.913Z"
   },
   {
    "duration": 774,
    "start_time": "2023-02-24T13:11:45.118Z"
   },
   {
    "duration": 4,
    "start_time": "2023-02-24T13:11:45.893Z"
   },
   {
    "duration": 23,
    "start_time": "2023-02-24T13:11:45.899Z"
   },
   {
    "duration": 72,
    "start_time": "2023-02-24T13:11:45.924Z"
   },
   {
    "duration": 109,
    "start_time": "2023-02-24T13:11:45.999Z"
   },
   {
    "duration": 315,
    "start_time": "2023-02-24T13:11:46.110Z"
   },
   {
    "duration": 778,
    "start_time": "2023-02-24T13:11:46.427Z"
   },
   {
    "duration": 48,
    "start_time": "2023-02-24T13:11:47.207Z"
   },
   {
    "duration": 121,
    "start_time": "2023-02-24T13:11:47.256Z"
   },
   {
    "duration": 6546,
    "start_time": "2023-02-24T14:42:11.328Z"
   },
   {
    "duration": 5,
    "start_time": "2023-02-24T14:50:25.177Z"
   },
   {
    "duration": 6711,
    "start_time": "2023-02-25T10:18:50.515Z"
   },
   {
    "duration": 1337,
    "start_time": "2023-02-25T10:19:03.674Z"
   },
   {
    "duration": 203,
    "start_time": "2023-02-25T10:19:12.142Z"
   },
   {
    "duration": 16,
    "start_time": "2023-02-25T10:19:22.144Z"
   },
   {
    "duration": 16,
    "start_time": "2023-02-25T10:19:31.467Z"
   },
   {
    "duration": 9,
    "start_time": "2023-02-25T10:19:35.170Z"
   },
   {
    "duration": 5,
    "start_time": "2023-02-25T10:19:46.313Z"
   },
   {
    "duration": 22,
    "start_time": "2023-02-25T10:20:12.664Z"
   },
   {
    "duration": 14,
    "start_time": "2023-02-25T10:20:28.831Z"
   },
   {
    "duration": 11,
    "start_time": "2023-02-25T10:20:34.935Z"
   },
   {
    "duration": 12,
    "start_time": "2023-02-25T10:20:45.674Z"
   },
   {
    "duration": 4,
    "start_time": "2023-02-25T10:20:51.967Z"
   },
   {
    "duration": 34,
    "start_time": "2023-02-25T10:20:55.361Z"
   },
   {
    "duration": 9,
    "start_time": "2023-02-25T10:21:30.467Z"
   },
   {
    "duration": 7,
    "start_time": "2023-02-25T10:21:33.768Z"
   },
   {
    "duration": 7,
    "start_time": "2023-02-25T10:21:35.507Z"
   },
   {
    "duration": 5,
    "start_time": "2023-02-25T10:21:38.330Z"
   },
   {
    "duration": 8,
    "start_time": "2023-02-25T10:21:39.779Z"
   },
   {
    "duration": 11,
    "start_time": "2023-02-25T10:22:35.471Z"
   },
   {
    "duration": 5,
    "start_time": "2023-02-25T10:22:45.033Z"
   },
   {
    "duration": 157,
    "start_time": "2023-02-25T10:25:09.706Z"
   },
   {
    "duration": 119,
    "start_time": "2023-02-25T10:25:23.271Z"
   },
   {
    "duration": 5,
    "start_time": "2023-02-25T10:34:47.776Z"
   },
   {
    "duration": 5,
    "start_time": "2023-02-25T10:39:01.396Z"
   },
   {
    "duration": 6,
    "start_time": "2023-02-25T10:39:24.972Z"
   },
   {
    "duration": 4,
    "start_time": "2023-02-25T10:40:54.214Z"
   },
   {
    "duration": 6,
    "start_time": "2023-02-25T10:41:27.317Z"
   },
   {
    "duration": 6,
    "start_time": "2023-02-25T10:42:20.484Z"
   },
   {
    "duration": 117,
    "start_time": "2023-02-25T10:45:55.085Z"
   },
   {
    "duration": 72,
    "start_time": "2023-02-25T10:47:05.123Z"
   },
   {
    "duration": 4,
    "start_time": "2023-02-25T10:47:16.201Z"
   },
   {
    "duration": 16,
    "start_time": "2023-02-25T10:47:37.041Z"
   },
   {
    "duration": 2192,
    "start_time": "2023-02-25T10:52:01.081Z"
   },
   {
    "duration": 4,
    "start_time": "2023-02-25T10:52:03.275Z"
   },
   {
    "duration": 159,
    "start_time": "2023-02-25T10:52:03.280Z"
   },
   {
    "duration": 12,
    "start_time": "2023-02-25T10:52:03.441Z"
   },
   {
    "duration": 16,
    "start_time": "2023-02-25T10:52:03.454Z"
   },
   {
    "duration": 7,
    "start_time": "2023-02-25T10:52:03.472Z"
   },
   {
    "duration": 11,
    "start_time": "2023-02-25T10:52:03.480Z"
   },
   {
    "duration": 17,
    "start_time": "2023-02-25T10:52:03.493Z"
   },
   {
    "duration": 12,
    "start_time": "2023-02-25T10:52:03.512Z"
   },
   {
    "duration": 28,
    "start_time": "2023-02-25T10:52:03.526Z"
   },
   {
    "duration": 12,
    "start_time": "2023-02-25T10:52:03.556Z"
   },
   {
    "duration": 3,
    "start_time": "2023-02-25T10:52:03.569Z"
   },
   {
    "duration": 39,
    "start_time": "2023-02-25T10:52:03.574Z"
   },
   {
    "duration": 6,
    "start_time": "2023-02-25T10:52:03.615Z"
   },
   {
    "duration": 16,
    "start_time": "2023-02-25T10:52:03.622Z"
   },
   {
    "duration": 12,
    "start_time": "2023-02-25T10:52:03.639Z"
   },
   {
    "duration": 6,
    "start_time": "2023-02-25T10:52:03.653Z"
   },
   {
    "duration": 13,
    "start_time": "2023-02-25T10:52:03.660Z"
   },
   {
    "duration": 5,
    "start_time": "2023-02-25T10:52:03.675Z"
   },
   {
    "duration": 8,
    "start_time": "2023-02-25T10:52:03.681Z"
   },
   {
    "duration": 15,
    "start_time": "2023-02-25T10:52:07.721Z"
   },
   {
    "duration": 16,
    "start_time": "2023-02-25T10:53:42.068Z"
   },
   {
    "duration": 31,
    "start_time": "2023-02-25T10:55:35.691Z"
   },
   {
    "duration": 27,
    "start_time": "2023-02-25T11:01:26.620Z"
   },
   {
    "duration": 23,
    "start_time": "2023-02-25T11:05:39.727Z"
   },
   {
    "duration": 24,
    "start_time": "2023-02-25T11:08:21.264Z"
   },
   {
    "duration": 30,
    "start_time": "2023-02-25T11:09:16.484Z"
   },
   {
    "duration": 1905,
    "start_time": "2023-02-25T11:09:55.537Z"
   },
   {
    "duration": 5,
    "start_time": "2023-02-25T11:09:57.444Z"
   },
   {
    "duration": 80,
    "start_time": "2023-02-25T11:09:57.450Z"
   },
   {
    "duration": 11,
    "start_time": "2023-02-25T11:09:57.532Z"
   },
   {
    "duration": 14,
    "start_time": "2023-02-25T11:09:57.545Z"
   },
   {
    "duration": 7,
    "start_time": "2023-02-25T11:09:57.561Z"
   },
   {
    "duration": 6,
    "start_time": "2023-02-25T11:09:57.570Z"
   },
   {
    "duration": 19,
    "start_time": "2023-02-25T11:09:57.578Z"
   },
   {
    "duration": 13,
    "start_time": "2023-02-25T11:09:57.599Z"
   },
   {
    "duration": 34,
    "start_time": "2023-02-25T11:09:57.615Z"
   },
   {
    "duration": 13,
    "start_time": "2023-02-25T11:09:57.650Z"
   },
   {
    "duration": 2,
    "start_time": "2023-02-25T11:09:57.665Z"
   },
   {
    "duration": 26,
    "start_time": "2023-02-25T11:09:57.668Z"
   },
   {
    "duration": 5,
    "start_time": "2023-02-25T11:09:57.696Z"
   },
   {
    "duration": 7,
    "start_time": "2023-02-25T11:09:57.703Z"
   },
   {
    "duration": 8,
    "start_time": "2023-02-25T11:09:57.711Z"
   },
   {
    "duration": 8,
    "start_time": "2023-02-25T11:09:57.748Z"
   },
   {
    "duration": 10,
    "start_time": "2023-02-25T11:09:57.757Z"
   },
   {
    "duration": 5,
    "start_time": "2023-02-25T11:09:57.769Z"
   },
   {
    "duration": 12,
    "start_time": "2023-02-25T11:09:57.775Z"
   },
   {
    "duration": 26,
    "start_time": "2023-02-25T11:09:57.788Z"
   },
   {
    "duration": 42,
    "start_time": "2023-02-25T11:09:57.816Z"
   },
   {
    "duration": 30,
    "start_time": "2023-02-25T11:09:57.859Z"
   },
   {
    "duration": 4,
    "start_time": "2023-02-25T11:30:47.676Z"
   },
   {
    "duration": 6,
    "start_time": "2023-02-25T11:31:02.606Z"
   },
   {
    "duration": 1956,
    "start_time": "2023-02-25T11:31:43.325Z"
   },
   {
    "duration": 5,
    "start_time": "2023-02-25T11:31:45.284Z"
   },
   {
    "duration": 88,
    "start_time": "2023-02-25T11:31:45.291Z"
   },
   {
    "duration": 15,
    "start_time": "2023-02-25T11:31:45.382Z"
   },
   {
    "duration": 20,
    "start_time": "2023-02-25T11:31:45.398Z"
   },
   {
    "duration": 15,
    "start_time": "2023-02-25T11:31:45.420Z"
   },
   {
    "duration": 8,
    "start_time": "2023-02-25T11:31:45.437Z"
   },
   {
    "duration": 26,
    "start_time": "2023-02-25T11:31:45.448Z"
   },
   {
    "duration": 13,
    "start_time": "2023-02-25T11:31:45.475Z"
   },
   {
    "duration": 8,
    "start_time": "2023-02-25T11:31:45.491Z"
   },
   {
    "duration": 11,
    "start_time": "2023-02-25T11:31:45.500Z"
   },
   {
    "duration": 3,
    "start_time": "2023-02-25T11:31:45.512Z"
   },
   {
    "duration": 45,
    "start_time": "2023-02-25T11:31:45.516Z"
   },
   {
    "duration": 6,
    "start_time": "2023-02-25T11:31:45.562Z"
   },
   {
    "duration": 7,
    "start_time": "2023-02-25T11:31:45.569Z"
   },
   {
    "duration": 7,
    "start_time": "2023-02-25T11:31:45.577Z"
   },
   {
    "duration": 5,
    "start_time": "2023-02-25T11:31:45.585Z"
   },
   {
    "duration": 11,
    "start_time": "2023-02-25T11:31:45.591Z"
   },
   {
    "duration": 6,
    "start_time": "2023-02-25T11:31:45.604Z"
   },
   {
    "duration": 5,
    "start_time": "2023-02-25T11:31:45.611Z"
   },
   {
    "duration": 52,
    "start_time": "2023-02-25T11:31:45.617Z"
   },
   {
    "duration": 25,
    "start_time": "2023-02-25T11:31:45.670Z"
   },
   {
    "duration": 34,
    "start_time": "2023-02-25T11:31:45.696Z"
   },
   {
    "duration": 19,
    "start_time": "2023-02-25T11:31:45.731Z"
   },
   {
    "duration": 7,
    "start_time": "2023-02-25T11:31:45.752Z"
   },
   {
    "duration": 25,
    "start_time": "2023-02-25T11:40:05.060Z"
   },
   {
    "duration": 208,
    "start_time": "2023-02-25T11:58:55.264Z"
   },
   {
    "duration": 173,
    "start_time": "2023-02-25T12:18:30.440Z"
   },
   {
    "duration": 39155,
    "start_time": "2023-02-25T12:20:59.859Z"
   },
   {
    "duration": 38433,
    "start_time": "2023-02-25T12:24:44.720Z"
   },
   {
    "duration": 38062,
    "start_time": "2023-02-25T12:28:28.659Z"
   },
   {
    "duration": 164,
    "start_time": "2023-02-25T12:29:39.403Z"
   },
   {
    "duration": 167,
    "start_time": "2023-02-25T12:30:02.439Z"
   },
   {
    "duration": 18,
    "start_time": "2023-02-25T12:32:30.928Z"
   },
   {
    "duration": 23,
    "start_time": "2023-02-25T12:38:37.220Z"
   },
   {
    "duration": 141,
    "start_time": "2023-02-25T12:56:47.909Z"
   },
   {
    "duration": 189,
    "start_time": "2023-02-25T13:00:22.824Z"
   },
   {
    "duration": 42415,
    "start_time": "2023-02-25T13:05:39.243Z"
   },
   {
    "duration": 4,
    "start_time": "2023-02-25T13:26:02.007Z"
   },
   {
    "duration": 14,
    "start_time": "2023-02-25T13:26:06.459Z"
   },
   {
    "duration": 19,
    "start_time": "2023-02-25T13:27:23.489Z"
   },
   {
    "duration": 32,
    "start_time": "2023-02-25T13:31:01.206Z"
   },
   {
    "duration": 251,
    "start_time": "2023-02-25T13:35:35.813Z"
   },
   {
    "duration": 257,
    "start_time": "2023-02-25T13:36:31.126Z"
   },
   {
    "duration": 261,
    "start_time": "2023-02-25T13:36:51.217Z"
   },
   {
    "duration": 221,
    "start_time": "2023-02-25T13:37:09.816Z"
   },
   {
    "duration": 55322,
    "start_time": "2023-02-25T13:42:18.818Z"
   },
   {
    "duration": 10,
    "start_time": "2023-02-25T13:54:20.030Z"
   },
   {
    "duration": 4,
    "start_time": "2023-02-25T13:54:26.469Z"
   },
   {
    "duration": 9,
    "start_time": "2023-02-25T13:54:27.821Z"
   },
   {
    "duration": 21,
    "start_time": "2023-02-25T13:54:29.258Z"
   },
   {
    "duration": 114,
    "start_time": "2023-02-25T13:55:46.869Z"
   },
   {
    "duration": 27601,
    "start_time": "2023-02-25T13:56:56.180Z"
   },
   {
    "duration": 13,
    "start_time": "2023-02-25T14:20:15.463Z"
   },
   {
    "duration": 169,
    "start_time": "2023-02-25T14:20:37.745Z"
   },
   {
    "duration": 201,
    "start_time": "2023-02-25T14:21:09.105Z"
   },
   {
    "duration": 112,
    "start_time": "2023-02-25T14:22:05.067Z"
   },
   {
    "duration": 2174,
    "start_time": "2023-02-25T14:23:22.172Z"
   },
   {
    "duration": 1376,
    "start_time": "2023-02-25T14:23:24.349Z"
   },
   {
    "duration": 71,
    "start_time": "2023-02-25T14:23:25.727Z"
   },
   {
    "duration": 19,
    "start_time": "2023-02-25T14:23:25.800Z"
   },
   {
    "duration": 19,
    "start_time": "2023-02-25T14:23:25.821Z"
   },
   {
    "duration": 9,
    "start_time": "2023-02-25T14:23:25.843Z"
   },
   {
    "duration": 11,
    "start_time": "2023-02-25T14:23:25.854Z"
   },
   {
    "duration": 44,
    "start_time": "2023-02-25T14:23:25.866Z"
   },
   {
    "duration": 16,
    "start_time": "2023-02-25T14:23:25.912Z"
   },
   {
    "duration": 22,
    "start_time": "2023-02-25T14:23:25.932Z"
   },
   {
    "duration": 16,
    "start_time": "2023-02-25T14:23:25.956Z"
   },
   {
    "duration": 3,
    "start_time": "2023-02-25T14:23:25.975Z"
   },
   {
    "duration": 34,
    "start_time": "2023-02-25T14:23:25.980Z"
   },
   {
    "duration": 7,
    "start_time": "2023-02-25T14:23:26.015Z"
   },
   {
    "duration": 30,
    "start_time": "2023-02-25T14:23:26.023Z"
   },
   {
    "duration": 9,
    "start_time": "2023-02-25T14:23:26.055Z"
   },
   {
    "duration": 10,
    "start_time": "2023-02-25T14:23:26.066Z"
   },
   {
    "duration": 11,
    "start_time": "2023-02-25T14:23:26.078Z"
   },
   {
    "duration": 21,
    "start_time": "2023-02-25T14:23:26.091Z"
   },
   {
    "duration": 20,
    "start_time": "2023-02-25T14:23:26.113Z"
   },
   {
    "duration": 29,
    "start_time": "2023-02-25T14:23:26.135Z"
   },
   {
    "duration": 24,
    "start_time": "2023-02-25T14:23:26.165Z"
   },
   {
    "duration": 64,
    "start_time": "2023-02-25T14:23:26.192Z"
   },
   {
    "duration": 5,
    "start_time": "2023-02-25T14:23:26.258Z"
   },
   {
    "duration": 9,
    "start_time": "2023-02-25T14:23:26.265Z"
   },
   {
    "duration": 400,
    "start_time": "2023-02-25T14:23:26.275Z"
   },
   {
    "duration": 0,
    "start_time": "2023-02-25T14:23:26.677Z"
   },
   {
    "duration": 0,
    "start_time": "2023-02-25T14:23:26.679Z"
   },
   {
    "duration": 0,
    "start_time": "2023-02-25T14:23:26.680Z"
   },
   {
    "duration": 0,
    "start_time": "2023-02-25T14:23:26.682Z"
   },
   {
    "duration": 0,
    "start_time": "2023-02-25T14:23:26.683Z"
   },
   {
    "duration": 0,
    "start_time": "2023-02-25T14:23:26.685Z"
   },
   {
    "duration": 0,
    "start_time": "2023-02-25T14:23:26.686Z"
   },
   {
    "duration": 0,
    "start_time": "2023-02-25T14:23:26.687Z"
   },
   {
    "duration": 0,
    "start_time": "2023-02-25T14:23:26.688Z"
   },
   {
    "duration": 0,
    "start_time": "2023-02-25T14:23:26.689Z"
   },
   {
    "duration": 0,
    "start_time": "2023-02-25T14:23:26.690Z"
   },
   {
    "duration": 0,
    "start_time": "2023-02-25T14:23:26.691Z"
   },
   {
    "duration": 0,
    "start_time": "2023-02-25T14:23:26.692Z"
   },
   {
    "duration": 0,
    "start_time": "2023-02-25T14:23:26.693Z"
   },
   {
    "duration": 0,
    "start_time": "2023-02-25T14:23:26.694Z"
   },
   {
    "duration": 0,
    "start_time": "2023-02-25T14:23:26.696Z"
   },
   {
    "duration": 0,
    "start_time": "2023-02-25T14:23:26.696Z"
   },
   {
    "duration": 79,
    "start_time": "2023-02-25T14:31:27.471Z"
   },
   {
    "duration": 2118,
    "start_time": "2023-02-25T14:32:26.064Z"
   },
   {
    "duration": 1128,
    "start_time": "2023-02-25T14:32:28.185Z"
   },
   {
    "duration": 78,
    "start_time": "2023-02-25T14:32:29.315Z"
   },
   {
    "duration": 23,
    "start_time": "2023-02-25T14:32:29.395Z"
   },
   {
    "duration": 12,
    "start_time": "2023-02-25T14:32:29.420Z"
   },
   {
    "duration": 8,
    "start_time": "2023-02-25T14:32:29.433Z"
   },
   {
    "duration": 5,
    "start_time": "2023-02-25T14:32:29.443Z"
   },
   {
    "duration": 19,
    "start_time": "2023-02-25T14:32:29.449Z"
   },
   {
    "duration": 23,
    "start_time": "2023-02-25T14:32:29.470Z"
   },
   {
    "duration": 14,
    "start_time": "2023-02-25T14:32:29.496Z"
   },
   {
    "duration": 36,
    "start_time": "2023-02-25T14:32:29.512Z"
   },
   {
    "duration": 3,
    "start_time": "2023-02-25T14:32:29.550Z"
   },
   {
    "duration": 49,
    "start_time": "2023-02-25T14:32:29.555Z"
   },
   {
    "duration": 8,
    "start_time": "2023-02-25T14:32:29.606Z"
   },
   {
    "duration": 11,
    "start_time": "2023-02-25T14:32:29.616Z"
   },
   {
    "duration": 21,
    "start_time": "2023-02-25T14:32:29.630Z"
   },
   {
    "duration": 9,
    "start_time": "2023-02-25T14:32:29.653Z"
   },
   {
    "duration": 15,
    "start_time": "2023-02-25T14:32:29.664Z"
   },
   {
    "duration": 7,
    "start_time": "2023-02-25T14:32:29.681Z"
   },
   {
    "duration": 15,
    "start_time": "2023-02-25T14:32:29.690Z"
   },
   {
    "duration": 54,
    "start_time": "2023-02-25T14:32:29.707Z"
   },
   {
    "duration": 29,
    "start_time": "2023-02-25T14:32:29.764Z"
   },
   {
    "duration": 57,
    "start_time": "2023-02-25T14:32:29.795Z"
   },
   {
    "duration": 6,
    "start_time": "2023-02-25T14:32:29.854Z"
   },
   {
    "duration": 11,
    "start_time": "2023-02-25T14:32:29.861Z"
   },
   {
    "duration": 87,
    "start_time": "2023-02-25T14:32:29.873Z"
   },
   {
    "duration": 359,
    "start_time": "2023-02-25T14:32:29.962Z"
   },
   {
    "duration": 40900,
    "start_time": "2023-02-25T14:32:30.324Z"
   },
   {
    "duration": 235,
    "start_time": "2023-02-25T14:33:11.226Z"
   },
   {
    "duration": 353,
    "start_time": "2023-02-25T14:33:11.463Z"
   },
   {
    "duration": 41477,
    "start_time": "2023-02-25T14:33:11.818Z"
   },
   {
    "duration": 4,
    "start_time": "2023-02-25T14:33:53.296Z"
   },
   {
    "duration": 22,
    "start_time": "2023-02-25T14:33:53.303Z"
   },
   {
    "duration": 133,
    "start_time": "2023-02-25T14:33:53.327Z"
   },
   {
    "duration": 389,
    "start_time": "2023-02-25T14:33:53.463Z"
   },
   {
    "duration": 54173,
    "start_time": "2023-02-25T14:33:53.853Z"
   },
   {
    "duration": 5,
    "start_time": "2023-02-25T14:34:48.027Z"
   },
   {
    "duration": 18,
    "start_time": "2023-02-25T14:34:48.034Z"
   },
   {
    "duration": 201,
    "start_time": "2023-02-25T14:34:48.054Z"
   },
   {
    "duration": 304,
    "start_time": "2023-02-25T14:34:48.257Z"
   },
   {
    "duration": 27186,
    "start_time": "2023-02-25T14:34:48.563Z"
   },
   {
    "duration": 281,
    "start_time": "2023-02-25T14:35:15.750Z"
   },
   {
    "duration": 129,
    "start_time": "2023-02-25T14:35:16.033Z"
   },
   {
    "duration": 8,
    "start_time": "2023-02-25T14:55:04.975Z"
   },
   {
    "duration": 4,
    "start_time": "2023-02-25T14:56:18.829Z"
   },
   {
    "duration": 7,
    "start_time": "2023-02-25T15:01:37.879Z"
   },
   {
    "duration": 6,
    "start_time": "2023-02-25T15:04:03.893Z"
   },
   {
    "duration": 6,
    "start_time": "2023-02-25T15:04:23.031Z"
   },
   {
    "duration": 6,
    "start_time": "2023-02-25T15:04:33.940Z"
   },
   {
    "duration": 6,
    "start_time": "2023-02-25T15:04:42.724Z"
   },
   {
    "duration": 6,
    "start_time": "2023-02-25T15:04:51.895Z"
   },
   {
    "duration": 5,
    "start_time": "2023-02-25T15:05:10.109Z"
   },
   {
    "duration": 2080,
    "start_time": "2023-02-25T15:12:36.381Z"
   },
   {
    "duration": 1126,
    "start_time": "2023-02-25T15:12:38.464Z"
   },
   {
    "duration": 89,
    "start_time": "2023-02-25T15:12:39.592Z"
   },
   {
    "duration": 15,
    "start_time": "2023-02-25T15:12:39.683Z"
   },
   {
    "duration": 12,
    "start_time": "2023-02-25T15:12:39.700Z"
   },
   {
    "duration": 9,
    "start_time": "2023-02-25T15:12:39.713Z"
   },
   {
    "duration": 5,
    "start_time": "2023-02-25T15:12:39.723Z"
   },
   {
    "duration": 35,
    "start_time": "2023-02-25T15:12:39.729Z"
   },
   {
    "duration": 11,
    "start_time": "2023-02-25T15:12:39.766Z"
   },
   {
    "duration": 9,
    "start_time": "2023-02-25T15:12:39.778Z"
   },
   {
    "duration": 10,
    "start_time": "2023-02-25T15:12:39.789Z"
   },
   {
    "duration": 2,
    "start_time": "2023-02-25T15:12:39.800Z"
   },
   {
    "duration": 29,
    "start_time": "2023-02-25T15:12:39.804Z"
   },
   {
    "duration": 10,
    "start_time": "2023-02-25T15:12:39.855Z"
   },
   {
    "duration": 12,
    "start_time": "2023-02-25T15:12:39.867Z"
   },
   {
    "duration": 10,
    "start_time": "2023-02-25T15:12:39.880Z"
   },
   {
    "duration": 16,
    "start_time": "2023-02-25T15:12:39.892Z"
   },
   {
    "duration": 10,
    "start_time": "2023-02-25T15:12:39.909Z"
   },
   {
    "duration": 11,
    "start_time": "2023-02-25T15:12:39.920Z"
   },
   {
    "duration": 13,
    "start_time": "2023-02-25T15:12:39.933Z"
   },
   {
    "duration": 39,
    "start_time": "2023-02-25T15:12:39.947Z"
   },
   {
    "duration": 24,
    "start_time": "2023-02-25T15:12:39.987Z"
   },
   {
    "duration": 46,
    "start_time": "2023-02-25T15:12:40.013Z"
   },
   {
    "duration": 7,
    "start_time": "2023-02-25T15:12:40.061Z"
   },
   {
    "duration": 11,
    "start_time": "2023-02-25T15:12:40.070Z"
   },
   {
    "duration": 88,
    "start_time": "2023-02-25T15:12:40.082Z"
   },
   {
    "duration": 353,
    "start_time": "2023-02-25T15:12:40.171Z"
   },
   {
    "duration": 41207,
    "start_time": "2023-02-25T15:12:40.526Z"
   },
   {
    "duration": 117,
    "start_time": "2023-02-25T15:13:21.735Z"
   },
   {
    "duration": 277,
    "start_time": "2023-02-25T15:13:21.855Z"
   },
   {
    "duration": 41787,
    "start_time": "2023-02-25T15:13:22.134Z"
   },
   {
    "duration": 5,
    "start_time": "2023-02-25T15:14:03.923Z"
   },
   {
    "duration": 50,
    "start_time": "2023-02-25T15:14:03.929Z"
   },
   {
    "duration": 72,
    "start_time": "2023-02-25T15:14:03.981Z"
   },
   {
    "duration": 331,
    "start_time": "2023-02-25T15:14:04.054Z"
   },
   {
    "duration": 53674,
    "start_time": "2023-02-25T15:14:04.387Z"
   },
   {
    "duration": 4,
    "start_time": "2023-02-25T15:14:58.063Z"
   },
   {
    "duration": 14,
    "start_time": "2023-02-25T15:14:58.068Z"
   },
   {
    "duration": 76,
    "start_time": "2023-02-25T15:14:58.083Z"
   },
   {
    "duration": 202,
    "start_time": "2023-02-25T15:14:58.164Z"
   },
   {
    "duration": 27141,
    "start_time": "2023-02-25T15:14:58.370Z"
   },
   {
    "duration": 217,
    "start_time": "2023-02-25T15:15:25.513Z"
   },
   {
    "duration": 154,
    "start_time": "2023-02-25T15:15:25.732Z"
   },
   {
    "duration": 7,
    "start_time": "2023-02-25T15:15:25.888Z"
   },
   {
    "duration": 6,
    "start_time": "2023-02-25T15:15:25.897Z"
   },
   {
    "duration": 9703,
    "start_time": "2023-02-26T10:58:18.167Z"
   },
   {
    "duration": 1473,
    "start_time": "2023-02-26T10:58:27.873Z"
   },
   {
    "duration": 221,
    "start_time": "2023-02-26T10:58:29.348Z"
   },
   {
    "duration": 18,
    "start_time": "2023-02-26T10:58:29.571Z"
   },
   {
    "duration": 13,
    "start_time": "2023-02-26T10:58:29.590Z"
   },
   {
    "duration": 8,
    "start_time": "2023-02-26T10:58:29.605Z"
   },
   {
    "duration": 9,
    "start_time": "2023-02-26T10:58:29.615Z"
   },
   {
    "duration": 53,
    "start_time": "2023-02-26T10:58:29.625Z"
   },
   {
    "duration": 16,
    "start_time": "2023-02-26T10:58:29.680Z"
   },
   {
    "duration": 10,
    "start_time": "2023-02-26T10:58:29.700Z"
   },
   {
    "duration": 30,
    "start_time": "2023-02-26T10:58:29.711Z"
   },
   {
    "duration": 5,
    "start_time": "2023-02-26T10:58:29.743Z"
   },
   {
    "duration": 42,
    "start_time": "2023-02-26T10:58:29.752Z"
   },
   {
    "duration": 6,
    "start_time": "2023-02-26T10:58:29.797Z"
   },
   {
    "duration": 8,
    "start_time": "2023-02-26T10:58:29.805Z"
   },
   {
    "duration": 10,
    "start_time": "2023-02-26T10:58:29.815Z"
   },
   {
    "duration": 7,
    "start_time": "2023-02-26T10:58:29.827Z"
   },
   {
    "duration": 33,
    "start_time": "2023-02-26T10:58:29.836Z"
   },
   {
    "duration": 6,
    "start_time": "2023-02-26T10:58:29.870Z"
   },
   {
    "duration": 12,
    "start_time": "2023-02-26T10:58:29.878Z"
   },
   {
    "duration": 29,
    "start_time": "2023-02-26T10:58:29.891Z"
   },
   {
    "duration": 38,
    "start_time": "2023-02-26T10:58:29.922Z"
   },
   {
    "duration": 36,
    "start_time": "2023-02-26T10:58:29.965Z"
   },
   {
    "duration": 5,
    "start_time": "2023-02-26T10:58:30.003Z"
   },
   {
    "duration": 6,
    "start_time": "2023-02-26T10:58:30.010Z"
   },
   {
    "duration": 134,
    "start_time": "2023-02-26T10:58:30.017Z"
   },
   {
    "duration": 301,
    "start_time": "2023-02-26T10:58:30.153Z"
   },
   {
    "duration": 45250,
    "start_time": "2023-02-26T10:58:30.467Z"
   },
   {
    "duration": 37,
    "start_time": "2023-02-26T10:59:15.719Z"
   },
   {
    "duration": 359,
    "start_time": "2023-02-26T10:59:15.761Z"
   },
   {
    "duration": 45912,
    "start_time": "2023-02-26T10:59:16.121Z"
   },
   {
    "duration": 5,
    "start_time": "2023-02-26T11:00:02.035Z"
   },
   {
    "duration": 67,
    "start_time": "2023-02-26T11:00:02.041Z"
   },
   {
    "duration": 51,
    "start_time": "2023-02-26T11:00:02.110Z"
   },
   {
    "duration": 424,
    "start_time": "2023-02-26T11:00:02.172Z"
   },
   {
    "duration": 60252,
    "start_time": "2023-02-26T11:00:02.599Z"
   },
   {
    "duration": 6,
    "start_time": "2023-02-26T11:01:02.853Z"
   },
   {
    "duration": 14,
    "start_time": "2023-02-26T11:01:02.862Z"
   },
   {
    "duration": 89,
    "start_time": "2023-02-26T11:01:02.878Z"
   },
   {
    "duration": 322,
    "start_time": "2023-02-26T11:01:02.970Z"
   },
   {
    "duration": 30175,
    "start_time": "2023-02-26T11:01:03.294Z"
   },
   {
    "duration": 237,
    "start_time": "2023-02-26T11:01:33.472Z"
   },
   {
    "duration": 174,
    "start_time": "2023-02-26T11:01:33.711Z"
   },
   {
    "duration": 10,
    "start_time": "2023-02-26T11:01:33.888Z"
   },
   {
    "duration": 7,
    "start_time": "2023-02-26T11:01:33.901Z"
   }
  ],
  "kernelspec": {
   "display_name": "Python 3 (ipykernel)",
   "language": "python",
   "name": "python3"
  },
  "language_info": {
   "codemirror_mode": {
    "name": "ipython",
    "version": 3
   },
   "file_extension": ".py",
   "mimetype": "text/x-python",
   "name": "python",
   "nbconvert_exporter": "python",
   "pygments_lexer": "ipython3",
   "version": "3.9.13"
  },
  "toc": {
   "base_numbering": 1,
   "nav_menu": {},
   "number_sections": true,
   "sideBar": true,
   "skip_h1_title": true,
   "title_cell": "Содержание",
   "title_sidebar": "Contents",
   "toc_cell": true,
   "toc_position": {
    "height": "calc(100% - 180px)",
    "left": "10px",
    "top": "150px",
    "width": "363.391px"
   },
   "toc_section_display": true,
   "toc_window_display": true
  },
  "varInspector": {
   "cols": {
    "lenName": 16,
    "lenType": 16,
    "lenVar": 40
   },
   "kernels_config": {
    "python": {
     "delete_cmd_postfix": "",
     "delete_cmd_prefix": "del ",
     "library": "var_list.py",
     "varRefreshCmd": "print(var_dic_list())"
    },
    "r": {
     "delete_cmd_postfix": ") ",
     "delete_cmd_prefix": "rm(",
     "library": "var_list.r",
     "varRefreshCmd": "cat(var_dic_list()) "
    }
   },
   "types_to_exclude": [
    "module",
    "function",
    "builtin_function_or_method",
    "instance",
    "_Feature"
   ],
   "window_display": false
  }
 },
 "nbformat": 4,
 "nbformat_minor": 2
}
